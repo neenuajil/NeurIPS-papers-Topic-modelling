{
  "nbformat": 4,
  "nbformat_minor": 0,
  "metadata": {
    "accelerator": "GPU",
    "colab": {
      "name": "Topic_Modelling_for documents.ipynb",
      "provenance": [],
      "collapsed_sections": []
    },
    "kernelspec": {
      "display_name": "Python 3",
      "name": "python3"
    },
    "language_info": {
      "name": "python"
    }
  },
  "cells": [
    {
      "cell_type": "code",
      "metadata": {
        "colab": {
          "base_uri": "https://localhost:8080/"
        },
        "id": "swr61K2OK_F4",
        "outputId": "4d725c47-838b-45f1-9e0e-36bd00678d44"
      },
      "source": [
        "from google.colab import drive\n",
        "drive.mount('/content/drive')"
      ],
      "execution_count": 1,
      "outputs": [
        {
          "output_type": "stream",
          "name": "stdout",
          "text": [
            "Drive already mounted at /content/drive; to attempt to forcibly remount, call drive.mount(\"/content/drive\", force_remount=True).\n"
          ]
        }
      ]
    },
    {
      "cell_type": "code",
      "metadata": {
        "colab": {
          "base_uri": "https://localhost:8080/"
        },
        "id": "_tsbsKYMZoUi",
        "outputId": "e662e168-f2f4-443e-c27a-63c82166b62f"
      },
      "source": [
        "cd /content/drive/MyDrive/topic_modelling_dataset\n"
      ],
      "execution_count": 2,
      "outputs": [
        {
          "output_type": "stream",
          "name": "stdout",
          "text": [
            "/content/drive/MyDrive/topic_modelling_dataset\n"
          ]
        }
      ]
    },
    {
      "cell_type": "code",
      "metadata": {
        "colab": {
          "base_uri": "https://localhost:8080/"
        },
        "id": "7efTZsL42ZCg",
        "outputId": "7ab5954c-d6ab-4387-8b6e-66b5f8405419"
      },
      "source": [
        "!pip install pyLDAvis"
      ],
      "execution_count": 3,
      "outputs": [
        {
          "output_type": "stream",
          "name": "stdout",
          "text": [
            "Requirement already satisfied: pyLDAvis in /usr/local/lib/python3.7/dist-packages (3.3.1)\n",
            "Requirement already satisfied: setuptools in /usr/local/lib/python3.7/dist-packages (from pyLDAvis) (57.4.0)\n",
            "Requirement already satisfied: numpy>=1.20.0 in /usr/local/lib/python3.7/dist-packages (from pyLDAvis) (1.21.3)\n",
            "Requirement already satisfied: jinja2 in /usr/local/lib/python3.7/dist-packages (from pyLDAvis) (2.11.3)\n",
            "Requirement already satisfied: future in /usr/local/lib/python3.7/dist-packages (from pyLDAvis) (0.16.0)\n",
            "Requirement already satisfied: scipy in /usr/local/lib/python3.7/dist-packages (from pyLDAvis) (1.4.1)\n",
            "Requirement already satisfied: pandas>=1.2.0 in /usr/local/lib/python3.7/dist-packages (from pyLDAvis) (1.3.4)\n",
            "Requirement already satisfied: gensim in /usr/local/lib/python3.7/dist-packages (from pyLDAvis) (3.6.0)\n",
            "Requirement already satisfied: scikit-learn in /usr/local/lib/python3.7/dist-packages (from pyLDAvis) (0.22.2.post1)\n",
            "Requirement already satisfied: sklearn in /usr/local/lib/python3.7/dist-packages (from pyLDAvis) (0.0)\n",
            "Requirement already satisfied: joblib in /usr/local/lib/python3.7/dist-packages (from pyLDAvis) (1.0.1)\n",
            "Requirement already satisfied: funcy in /usr/local/lib/python3.7/dist-packages (from pyLDAvis) (1.16)\n",
            "Requirement already satisfied: numexpr in /usr/local/lib/python3.7/dist-packages (from pyLDAvis) (2.7.3)\n",
            "Requirement already satisfied: pytz>=2017.3 in /usr/local/lib/python3.7/dist-packages (from pandas>=1.2.0->pyLDAvis) (2018.9)\n",
            "Requirement already satisfied: python-dateutil>=2.7.3 in /usr/local/lib/python3.7/dist-packages (from pandas>=1.2.0->pyLDAvis) (2.8.2)\n",
            "Requirement already satisfied: six>=1.5 in /usr/local/lib/python3.7/dist-packages (from python-dateutil>=2.7.3->pandas>=1.2.0->pyLDAvis) (1.15.0)\n",
            "Requirement already satisfied: smart-open>=1.2.1 in /usr/local/lib/python3.7/dist-packages (from gensim->pyLDAvis) (5.2.1)\n",
            "Requirement already satisfied: MarkupSafe>=0.23 in /usr/local/lib/python3.7/dist-packages (from jinja2->pyLDAvis) (2.0.1)\n"
          ]
        }
      ]
    },
    {
      "cell_type": "code",
      "metadata": {
        "id": "3BIsiM-Bh7vh"
      },
      "source": [
        "import pandas as pd\n",
        "import numpy as np\n",
        "\n",
        "#gensim importing\n",
        "import gensim\n",
        "from gensim import corpora, models\n",
        "from gensim.utils import simple_preprocess\n",
        "from gensim.models import CoherenceModel\n",
        "\n",
        "## NLTK Stop words\n",
        "import nltk\n",
        "nltk.download('stopwords')\n",
        "from nltk.corpus import stopwords\n",
        "stop_words = stopwords.words('english')\n",
        "\n",
        "#Plotting tools\n",
        "import seaborn as sns\n",
        "import pyLDAvis\n",
        "import pyLDAvis.gensim_models  \n",
        "import matplotlib.pyplot as plt\n",
        "%matplotlib inline\n",
        "pyLDAvis.enable_notebook()"
      ],
      "execution_count": null,
      "outputs": []
    },
    {
      "cell_type": "code",
      "metadata": {
        "id": "BkzoeLe2igIQ"
      },
      "source": [
        "path = \"/content/drive/MyDrive/topic_modelling_dataset/papers.csv\" #given the path"
      ],
      "execution_count": 6,
      "outputs": []
    },
    {
      "cell_type": "code",
      "metadata": {
        "colab": {
          "base_uri": "https://localhost:8080/",
          "height": 420
        },
        "id": "wosjx2OeZn7b",
        "outputId": "68f149d9-1986-4ef4-fe3b-d8d0744e38e7"
      },
      "source": [
        "df = pd.read_csv(path)\n",
        "df"
      ],
      "execution_count": 7,
      "outputs": [
        {
          "output_type": "execute_result",
          "data": {
            "text/html": [
              "<div>\n",
              "<style scoped>\n",
              "    .dataframe tbody tr th:only-of-type {\n",
              "        vertical-align: middle;\n",
              "    }\n",
              "\n",
              "    .dataframe tbody tr th {\n",
              "        vertical-align: top;\n",
              "    }\n",
              "\n",
              "    .dataframe thead th {\n",
              "        text-align: right;\n",
              "    }\n",
              "</style>\n",
              "<table border=\"1\" class=\"dataframe\">\n",
              "  <thead>\n",
              "    <tr style=\"text-align: right;\">\n",
              "      <th></th>\n",
              "      <th>source_id</th>\n",
              "      <th>year</th>\n",
              "      <th>title</th>\n",
              "      <th>abstract</th>\n",
              "      <th>full_text</th>\n",
              "    </tr>\n",
              "  </thead>\n",
              "  <tbody>\n",
              "    <tr>\n",
              "      <th>0</th>\n",
              "      <td>27</td>\n",
              "      <td>1987</td>\n",
              "      <td>Bit-Serial Neural Networks</td>\n",
              "      <td>NaN</td>\n",
              "      <td>573 \\n\\nBIT - SERIAL NEURAL  NETWORKS \\n\\nAlan...</td>\n",
              "    </tr>\n",
              "    <tr>\n",
              "      <th>1</th>\n",
              "      <td>63</td>\n",
              "      <td>1987</td>\n",
              "      <td>Connectivity Versus Entropy</td>\n",
              "      <td>NaN</td>\n",
              "      <td>1 \\n\\nCONNECTIVITY VERSUS ENTROPY \\n\\nYaser  S...</td>\n",
              "    </tr>\n",
              "    <tr>\n",
              "      <th>2</th>\n",
              "      <td>60</td>\n",
              "      <td>1987</td>\n",
              "      <td>The Hopfield Model with Multi-Level Neurons</td>\n",
              "      <td>NaN</td>\n",
              "      <td>278 \\n\\nTHE HOPFIELD MODEL WITH MUL TI-LEVEL N...</td>\n",
              "    </tr>\n",
              "    <tr>\n",
              "      <th>3</th>\n",
              "      <td>59</td>\n",
              "      <td>1987</td>\n",
              "      <td>How Neural Nets Work</td>\n",
              "      <td>NaN</td>\n",
              "      <td>442 \\n\\nAlan  Lapedes \\nRobert  Farber \\n\\nThe...</td>\n",
              "    </tr>\n",
              "    <tr>\n",
              "      <th>4</th>\n",
              "      <td>69</td>\n",
              "      <td>1987</td>\n",
              "      <td>Spatial Organization of Neural Networks: A Pro...</td>\n",
              "      <td>NaN</td>\n",
              "      <td>740 \\n\\nSPATIAL  ORGANIZATION  OF  NEURAL  NEn...</td>\n",
              "    </tr>\n",
              "    <tr>\n",
              "      <th>...</th>\n",
              "      <td>...</td>\n",
              "      <td>...</td>\n",
              "      <td>...</td>\n",
              "      <td>...</td>\n",
              "      <td>...</td>\n",
              "    </tr>\n",
              "    <tr>\n",
              "      <th>9675</th>\n",
              "      <td>5452</td>\n",
              "      <td>2019</td>\n",
              "      <td>Discrete Object Generation with Reversible Ind...</td>\n",
              "      <td>The success of generative modeling in continuo...</td>\n",
              "      <td>Discrete Object Generation\\n\\nwith Reversible ...</td>\n",
              "    </tr>\n",
              "    <tr>\n",
              "      <th>9676</th>\n",
              "      <td>4799</td>\n",
              "      <td>2019</td>\n",
              "      <td>Adaptively Aligned Image Captioning via Adapti...</td>\n",
              "      <td>Recent neural models for image captioning usua...</td>\n",
              "      <td>Adaptively Aligned Image Captioning via\\n\\nAda...</td>\n",
              "    </tr>\n",
              "    <tr>\n",
              "      <th>9677</th>\n",
              "      <td>1827</td>\n",
              "      <td>2019</td>\n",
              "      <td>Fully Dynamic Consistent Facility Location</td>\n",
              "      <td>We consider classic clustering problems in ful...</td>\n",
              "      <td>Fully Dynamic Consistent Facility Location\\n\\n...</td>\n",
              "    </tr>\n",
              "    <tr>\n",
              "      <th>9678</th>\n",
              "      <td>8693</td>\n",
              "      <td>2019</td>\n",
              "      <td>Efficient Rematerialization for Deep Networks</td>\n",
              "      <td>When training complex neural networks, memory ...</td>\n",
              "      <td>Efﬁcient Rematerialization for Deep Networks\\n...</td>\n",
              "    </tr>\n",
              "    <tr>\n",
              "      <th>9679</th>\n",
              "      <td>2302</td>\n",
              "      <td>2019</td>\n",
              "      <td>Flow-based Image-to-Image Translation with Fea...</td>\n",
              "      <td>Learning non-deterministic dynamics and intrin...</td>\n",
              "      <td>Flow-based Image-to-Image Translation\\n\\nwith ...</td>\n",
              "    </tr>\n",
              "  </tbody>\n",
              "</table>\n",
              "<p>9680 rows × 5 columns</p>\n",
              "</div>"
            ],
            "text/plain": [
              "      source_id  ...                                          full_text\n",
              "0            27  ...  573 \\n\\nBIT - SERIAL NEURAL  NETWORKS \\n\\nAlan...\n",
              "1            63  ...  1 \\n\\nCONNECTIVITY VERSUS ENTROPY \\n\\nYaser  S...\n",
              "2            60  ...  278 \\n\\nTHE HOPFIELD MODEL WITH MUL TI-LEVEL N...\n",
              "3            59  ...  442 \\n\\nAlan  Lapedes \\nRobert  Farber \\n\\nThe...\n",
              "4            69  ...  740 \\n\\nSPATIAL  ORGANIZATION  OF  NEURAL  NEn...\n",
              "...         ...  ...                                                ...\n",
              "9675       5452  ...  Discrete Object Generation\\n\\nwith Reversible ...\n",
              "9676       4799  ...  Adaptively Aligned Image Captioning via\\n\\nAda...\n",
              "9677       1827  ...  Fully Dynamic Consistent Facility Location\\n\\n...\n",
              "9678       8693  ...  Efﬁcient Rematerialization for Deep Networks\\n...\n",
              "9679       2302  ...  Flow-based Image-to-Image Translation\\n\\nwith ...\n",
              "\n",
              "[9680 rows x 5 columns]"
            ]
          },
          "metadata": {},
          "execution_count": 7
        }
      ]
    },
    {
      "cell_type": "markdown",
      "metadata": {
        "id": "rCIZs7oUkBIk"
      },
      "source": [
        "To check the nan values"
      ]
    },
    {
      "cell_type": "code",
      "metadata": {
        "colab": {
          "base_uri": "https://localhost:8080/",
          "height": 288
        },
        "id": "dc6-lDboZn0O",
        "outputId": "ef234344-3497-45c5-dd35-f6ae8a5e2284"
      },
      "source": [
        "sns.heatmap(df.isna())"
      ],
      "execution_count": 8,
      "outputs": [
        {
          "output_type": "execute_result",
          "data": {
            "text/plain": [
              "<matplotlib.axes._subplots.AxesSubplot at 0x7fc28fb32e50>"
            ]
          },
          "metadata": {},
          "execution_count": 8
        },
        {
          "output_type": "display_data",
          "data": {
            "image/png": "[encoded data removed]",
            "text/plain": [
              "<Figure size 432x288 with 2 Axes>"
            ]
          },
          "metadata": {
            "needs_background": "light"
          }
        }
      ]
    },
    {
      "cell_type": "markdown",
      "metadata": {
        "id": "pTaKU27aquqI"
      },
      "source": [
        "Here I am focusing on the title column only for topic modelling"
      ]
    },
    {
      "cell_type": "code",
      "metadata": {
        "colab": {
          "base_uri": "https://localhost:8080/"
        },
        "id": "SMKW509MZnn2",
        "outputId": "b19264d8-5da8-447e-fe12-f57c799a64e0"
      },
      "source": [
        "data = df.title.values.tolist()\n",
        "data[:1]"
      ],
      "execution_count": 11,
      "outputs": [
        {
          "output_type": "execute_result",
          "data": {
            "text/plain": [
              "['Bit-Serial Neural Networks']"
            ]
          },
          "metadata": {},
          "execution_count": 11
        }
      ]
    },
    {
      "cell_type": "code",
      "metadata": {
        "id": "ZudeoSj-ZnXw"
      },
      "source": [
        "#tokenize the sentences to the words, deacc=True removes punctuations\n",
        "def sent_to_words(sentences):\n",
        "    for sentence in sentences:\n",
        "        yield(gensim.utils.simple_preprocess(str(sentence), deacc=True))"
      ],
      "execution_count": 12,
      "outputs": []
    },
    {
      "cell_type": "code",
      "metadata": {
        "id": "AzzYchZ81VaM"
      },
      "source": [
        "#remove the stopwords\n",
        "def remove_stopwords(texts):\n",
        "    return [[word for word in simple_preprocess(str(doc)) if word not in stop_words] for doc in texts]"
      ],
      "execution_count": 13,
      "outputs": []
    },
    {
      "cell_type": "code",
      "metadata": {
        "id": "0_ZlJayr1W5Y",
        "colab": {
          "base_uri": "https://localhost:8080/"
        },
        "outputId": "54329dfa-f6db-4ed5-9221-ff54a2f5b270"
      },
      "source": [
        "data_words = list(sent_to_words(data))\n",
        "data_words[:1]"
      ],
      "execution_count": 14,
      "outputs": [
        {
          "output_type": "execute_result",
          "data": {
            "text/plain": [
              "[['bit', 'serial', 'neural', 'networks']]"
            ]
          },
          "metadata": {},
          "execution_count": 14
        }
      ]
    },
    {
      "cell_type": "code",
      "metadata": {
        "id": "CjVmxOMzK-kx",
        "colab": {
          "base_uri": "https://localhost:8080/"
        },
        "outputId": "b7d11551-04f8-4e06-e690-19951d3b4e8c"
      },
      "source": [
        "data_words_nostops = remove_stopwords(data_words)\n",
        "data_words_nostops[:1]"
      ],
      "execution_count": 15,
      "outputs": [
        {
          "output_type": "execute_result",
          "data": {
            "text/plain": [
              "[['bit', 'serial', 'neural', 'networks']]"
            ]
          },
          "metadata": {},
          "execution_count": 15
        }
      ]
    },
    {
      "cell_type": "code",
      "metadata": {
        "colab": {
          "base_uri": "https://localhost:8080/"
        },
        "id": "qJKHukpzLGUR",
        "outputId": "818c58b4-5af4-4ab7-a43e-a4ab3796ab19"
      },
      "source": [
        "#creating the dictionary\n",
        "dictionary = corpora.Dictionary(data_words_nostops)\n",
        "print('{} different terms in the corpus'.format(len(dictionary)))"
      ],
      "execution_count": 16,
      "outputs": [
        {
          "output_type": "stream",
          "name": "stdout",
          "text": [
            "6443 different terms in the corpus\n"
          ]
        }
      ]
    },
    {
      "cell_type": "code",
      "metadata": {
        "id": "v23qsE21K0HM"
      },
      "source": [
        "text_data = data_words_nostops"
      ],
      "execution_count": 17,
      "outputs": []
    },
    {
      "cell_type": "code",
      "metadata": {
        "id": "bwaXxBNSK4_D"
      },
      "source": [
        "#the bag of words object\n",
        "corpus = [dictionary.doc2bow(text) for text in text_data]"
      ],
      "execution_count": 18,
      "outputs": []
    },
    {
      "cell_type": "code",
      "metadata": {
        "id": "fknuytVn-l99"
      },
      "source": [
        "#tfidf model\n",
        "tfidf_model = models.TfidfModel(corpus) \n",
        "tfidf_corpus = tfidf_model[corpus]"
      ],
      "execution_count": 19,
      "outputs": []
    },
    {
      "cell_type": "code",
      "metadata": {
        "id": "y9Vu_HHd-pt_"
      },
      "source": [
        "# lda is unsupervised learning so there is no target topics, have to try with diffent number of topics \n",
        "#highest coherance value topic have to be choosen\n",
        "\n",
        "\n",
        "def coherence_values(dictionary, data, corpus, limit, start, step):\n",
        "    coherence_values = []\n",
        "    model_list = []\n",
        "    for num_topics in range(start, limit, step):\n",
        "        model = lda_model = gensim.models.ldamodel.LdaModel(corpus = tfidf_corpus ,\n",
        "                                           id2word = dictionary,\n",
        "                                           num_topics = num_topics,\n",
        "                                           random_state = 10)\n",
        "        model_list.append(model)\n",
        "        coherencemodel = CoherenceModel(model = model,\n",
        "                                        texts = data, \n",
        "                                        dictionary = dictionary,\n",
        "                                        coherence = 'c_v')\n",
        "        coherence_values.append(coherencemodel.get_coherence())\n",
        "\n",
        "    return model_list, coherence_values"
      ],
      "execution_count": 20,
      "outputs": []
    },
    {
      "cell_type": "code",
      "metadata": {
        "id": "ZQkv-7AM-tW3"
      },
      "source": [
        "start = 1; limit = 20; step = 1 # computing  the topic number from one to 20 nd \n",
        "\n",
        "model_list, coherence_values = coherence_values(dictionary = dictionary, \n",
        "                                                        data = text_data, corpus = tfidf_corpus, \n",
        "                                                        start = start, limit = limit,\n",
        "                                                        step = step)"
      ],
      "execution_count": null,
      "outputs": []
    },
    {
      "cell_type": "code",
      "metadata": {
        "colab": {
          "base_uri": "https://localhost:8080/",
          "height": 281
        },
        "id": "cnRQ7cTT-wSY",
        "outputId": "e890c8dd-7c3a-490e-a8d9-730f05824de0"
      },
      "source": [
        "#plotting coherence value and the topic number\n",
        "no_of_topics = range(start, limit, step)\n",
        "plt.figure(figsize = (13, 4))\n",
        "plt.plot(no_of_topics, coherence_values, color = 'red')\n",
        "plt.xlabel(\"Num Topics\", fontsize = 13)\n",
        "plt.ylabel(\"Coherence score\", fontsize = 13)\n",
        "plt.xticks(no_of_topics)\n",
        "plt.show()"
      ],
      "execution_count": 22,
      "outputs": [
        {
          "output_type": "display_data",
          "data": {
            "image/png": "[encoded data removed]",
            "text/plain": [
              "<Figure size 936x288 with 1 Axes>"
            ]
          },
          "metadata": {
            "needs_background": "light"
          }
        }
      ]
    },
    {
      "cell_type": "code",
      "metadata": {
        "colab": {
          "base_uri": "https://localhost:8080/"
        },
        "id": "HZVLxTbC_YRy",
        "outputId": "9c3b5ac6-06e4-493f-ad21-cecf4e79d2fb"
      },
      "source": [
        "#automatically selecting the coherance\n",
        "dictonary_new = {m:cv for m, cv in zip(no_of_topics, coherence_values)}\n",
        "dictonary_new"
      ],
      "execution_count": 23,
      "outputs": [
        {
          "output_type": "execute_result",
          "data": {
            "text/plain": [
              "{1: 0.2115728514548624,\n",
              " 2: 0.1954585540760991,\n",
              " 3: 0.2916820628579701,\n",
              " 4: 0.32126731477409937,\n",
              " 5: 0.37387650213563495,\n",
              " 6: 0.40225428326994767,\n",
              " 7: 0.42490610442372967,\n",
              " 8: 0.3988698463982665,\n",
              " 9: 0.45785797258893723,\n",
              " 10: 0.4516888815482315,\n",
              " 11: 0.47993142988412923,\n",
              " 12: 0.4766701845422234,\n",
              " 13: 0.48000578256338183,\n",
              " 14: 0.5110172377644615,\n",
              " 15: 0.49690823324273875,\n",
              " 16: 0.5269602783693945,\n",
              " 17: 0.5214937310284277,\n",
              " 18: 0.49936279486571344,\n",
              " 19: 0.507769229563787}"
            ]
          },
          "metadata": {},
          "execution_count": 23
        }
      ]
    },
    {
      "cell_type": "code",
      "metadata": {
        "colab": {
          "base_uri": "https://localhost:8080/"
        },
        "id": "3bLMB9o0_cQV",
        "outputId": "bbb81f9e-39c4-4a4d-eef1-a4b33a15af67"
      },
      "source": [
        "import operator\n",
        "var= max(dictonary_new.items(), key=operator.itemgetter(1))[0]\n",
        "var"
      ],
      "execution_count": 24,
      "outputs": [
        {
          "output_type": "execute_result",
          "data": {
            "text/plain": [
              "16"
            ]
          },
          "metadata": {},
          "execution_count": 24
        }
      ]
    },
    {
      "cell_type": "markdown",
      "metadata": {
        "id": "BcCb4Nr9_jMc"
      },
      "source": [
        "\n",
        "My opinion manully selecting the number of topics from the graph is better. Dataset used here is small, so we will not get the accurate topic. I tried my best to obtain the optimal topics"
      ]
    },
    {
      "cell_type": "code",
      "metadata": {
        "colab": {
          "base_uri": "https://localhost:8080/"
        },
        "id": "gQ0gQlHG_edt",
        "outputId": "bcb24dfd-7f8b-4855-9c37-e9e9e52f370c"
      },
      "source": [
        "#optimal_model = model_list[var] # automatically selcting the best topic\n",
        "optimal_model = model_list[9]\n",
        "model_topics = optimal_model.show_topics(var,formatted = True) # probabilty of each word belong to that topic\n",
        "model_topics"
      ],
      "execution_count": 25,
      "outputs": [
        {
          "output_type": "execute_result",
          "data": {
            "text/plain": [
              "[(0,\n",
              "  '0.025*\"adversarial\" + 0.011*\"learning\" + 0.009*\"transfer\" + 0.008*\"submodular\" + 0.007*\"embedding\" + 0.007*\"online\" + 0.007*\"consistent\" + 0.007*\"combinatorial\" + 0.006*\"multi\" + 0.006*\"deep\"'),\n",
              " (1,\n",
              "  '0.014*\"policy\" + 0.012*\"latent\" + 0.010*\"structured\" + 0.009*\"language\" + 0.008*\"robustness\" + 0.008*\"prediction\" + 0.007*\"zero\" + 0.007*\"tensor\" + 0.007*\"optimization\" + 0.007*\"deep\"'),\n",
              " (2,\n",
              "  '0.013*\"graph\" + 0.011*\"learning\" + 0.010*\"online\" + 0.009*\"robust\" + 0.009*\"communication\" + 0.008*\"matrix\" + 0.008*\"aware\" + 0.008*\"via\" + 0.007*\"factorization\" + 0.007*\"efficient\"'),\n",
              " (3,\n",
              "  '0.010*\"semi\" + 0.010*\"learning\" + 0.009*\"bandit\" + 0.009*\"conditional\" + 0.009*\"supervised\" + 0.007*\"sequence\" + 0.007*\"networks\" + 0.007*\"testing\" + 0.006*\"neural\" + 0.006*\"fairness\"'),\n",
              " (4,\n",
              "  '0.010*\"attention\" + 0.010*\"sampling\" + 0.010*\"graph\" + 0.010*\"learning\" + 0.009*\"semantic\" + 0.009*\"transport\" + 0.009*\"spectral\" + 0.008*\"self\" + 0.008*\"uncertainty\" + 0.008*\"task\"'),\n",
              " (5,\n",
              "  '0.014*\"causal\" + 0.009*\"agent\" + 0.008*\"learning\" + 0.008*\"random\" + 0.007*\"gradients\" + 0.007*\"distribution\" + 0.007*\"recovery\" + 0.007*\"inference\" + 0.006*\"solving\" + 0.006*\"streaming\"'),\n",
              " (6,\n",
              "  '0.017*\"generative\" + 0.011*\"learning\" + 0.010*\"shot\" + 0.010*\"sample\" + 0.010*\"domain\" + 0.007*\"optimization\" + 0.007*\"beyond\" + 0.007*\"neural\" + 0.007*\"low\" + 0.007*\"networks\"'),\n",
              " (7,\n",
              "  '0.027*\"deep\" + 0.010*\"networks\" + 0.010*\"learning\" + 0.009*\"convolutional\" + 0.008*\"neural\" + 0.008*\"end\" + 0.008*\"reduction\" + 0.007*\"via\" + 0.006*\"efficient\" + 0.006*\"variance\"'),\n",
              " (8,\n",
              "  '0.012*\"graphs\" + 0.010*\"variational\" + 0.009*\"meta\" + 0.009*\"inference\" + 0.008*\"gaussian\" + 0.008*\"deep\" + 0.007*\"privacy\" + 0.007*\"learning\" + 0.007*\"processes\" + 0.006*\"tree\"'),\n",
              " (9,\n",
              "  '0.017*\"gradient\" + 0.013*\"descent\" + 0.011*\"learning\" + 0.010*\"stochastic\" + 0.009*\"process\" + 0.009*\"bandits\" + 0.009*\"loss\" + 0.008*\"wasserstein\" + 0.008*\"contextual\" + 0.007*\"boosting\"')]"
            ]
          },
          "metadata": {},
          "execution_count": 25
        }
      ]
    },
    {
      "cell_type": "code",
      "metadata": {
        "colab": {
          "base_uri": "https://localhost:8080/",
          "height": 894
        },
        "id": "bn2k6G4C_oln",
        "outputId": "a0e4b9fb-88de-47e3-9ca2-018606cdb9b8"
      },
      "source": [
        "lda_graph = pyLDAvis.gensim_models.prepare(optimal_model, corpus, dictionary)\n",
        "lda_graph"
      ],
      "execution_count": 26,
      "outputs": [
        {
          "output_type": "stream",
          "name": "stderr",
          "text": [
            "/usr/local/lib/python3.7/dist-packages/pyLDAvis/_prepare.py:247: FutureWarning: In a future version of pandas all arguments of DataFrame.drop except for the argument 'labels' will be keyword-only\n",
            "  by='saliency', ascending=False).head(R).drop('saliency', 1)\n"
          ]
        },
        {
          "output_type": "execute_result",
          "data": {
            "text/html": [
              "\n",
              "<link rel=\"stylesheet\" type=\"text/css\" href=\"https://cdn.jsdelivr.net/gh/bmabey/pyLDAvis@3.3.1/pyLDAvis/js/ldavis.v1.0.0.css\">\n",
              "\n",
              "\n",
              "<div id=\"ldavis_el4601404734761495849878496617\"></div>\n",
              "<script type=\"text/javascript\">\n",
              "\n",
              "var ldavis_el4601404734761495849878496617_data = {\"mdsDat\": {\"x\": [0.15391420849840703, 0.015675998168915257, -0.06294451725382443, 0.044582650852985586, 0.0206219514400099, 0.016137847278958315, -0.10858031960552463, -0.06392917343798027, 0.08103546692549315, -0.09651411286743981], \"y\": [0.01695107834143896, -0.04657008693712093, 0.06971527985871379, -0.11677537781248123, 0.09271447717476937, -0.029814650335285145, -0.019183638480753287, 0.12862368544639716, 0.017976884911916027, -0.11363765216759482], \"topics\": [1, 2, 3, 4, 5, 6, 7, 8, 9, 10], \"cluster\": [1, 1, 1, 1, 1, 1, 1, 1, 1, 1], \"Freq\": [12.553238842258796, 12.395354759725754, 10.519109675549966, 10.437984358824506, 10.077017012673817, 9.663473827708632, 9.211310811559107, 8.723093669711254, 8.434875643899034, 7.9845413980891315]}, \"tinfo\": {\"Term\": [\"deep\", \"adversarial\", \"graph\", \"generative\", \"gradient\", \"causal\", \"graphs\", \"policy\", \"latent\", \"online\", \"descent\", \"semi\", \"bandit\", \"shot\", \"sampling\", \"meta\", \"conditional\", \"domain\", \"attention\", \"sample\", \"semantic\", \"communication\", \"convolutional\", \"bandits\", \"low\", \"transport\", \"end\", \"structured\", \"robustness\", \"matrix\", \"end\", \"differentiable\", \"accelerated\", \"provably\", \"co\", \"set\", \"level\", \"dirichlet\", \"optimistic\", \"posterior\", \"guarantees\", \"reduced\", \"game\", \"top\", \"upper\", \"quantile\", \"dimensionality\", \"regularizing\", \"allocation\", \"permutation\", \"pricing\", \"variation\", \"frank\", \"total\", \"treatment\", \"optimize\", \"options\", \"identifying\", \"partition\", \"detecting\", \"reduction\", \"knowledge\", \"ensemble\", \"asymptotic\", \"explanations\", \"agnostic\", \"abstraction\", \"experimental\", \"deep\", \"effect\", \"convolutional\", \"carlo\", \"monte\", \"coordinate\", \"unknown\", \"global\", \"variance\", \"compression\", \"block\", \"convergence\", \"point\", \"method\", \"prior\", \"networks\", \"learning\", \"neural\", \"via\", \"efficient\", \"kernel\", \"variational\", \"bayesian\", \"convex\", \"training\", \"estimation\", \"analysis\", \"models\", \"generative\", \"bandit\", \"testing\", \"sequence\", \"means\", \"step\", \"safe\", \"determinantal\", \"multiclass\", \"poisson\", \"intrinsic\", \"matrices\", \"chain\", \"denoising\", \"autoregressive\", \"partitioning\", \"conditional\", \"preference\", \"semi\", \"fixed\", \"populations\", \"transformation\", \"missing\", \"rethinking\", \"globally\", \"deconvolution\", \"transductive\", \"asynchronous\", \"sensitivity\", \"adversarially\", \"improves\", \"fairness\", \"independence\", \"physics\", \"group\", \"supervised\", \"generation\", \"understanding\", \"sequential\", \"geometry\", \"features\", \"priors\", \"learning\", \"recurrent\", \"kernel\", \"data\", \"markov\", \"networks\", \"processes\", \"neural\", \"methods\", \"point\", \"models\", \"time\", \"robust\", \"aware\", \"near\", \"communication\", \"factorization\", \"normalization\", \"positive\", \"alternating\", \"residual\", \"saddle\", \"multimodal\", \"auto\", \"multitask\", \"labels\", \"resource\", \"invariance\", \"fourier\", \"double\", \"videos\", \"depth\", \"meets\", \"worst\", \"ensembles\", \"reliable\", \"offline\", \"unconstrained\", \"iterative\", \"valued\", \"hyperparameter\", \"column\", \"doubly\", \"sketching\", \"cross\", \"polynomial\", \"output\", \"scalable\", \"graph\", \"matrix\", \"case\", \"online\", \"robust\", \"evaluation\", \"rank\", \"nonparametric\", \"collaborative\", \"representation\", \"low\", \"kernels\", \"learning\", \"via\", \"efficient\", \"adversarial\", \"networks\", \"optimization\", \"optimal\", \"reinforcement\", \"neural\", \"approximation\", \"sparse\", \"privacy\", \"accurate\", \"confidence\", \"multivariate\", \"box\", \"max\", \"convergent\", \"decentralized\", \"quantum\", \"locally\", \"accelerating\", \"graphs\", \"conditioned\", \"update\", \"experience\", \"diverse\", \"person\", \"fmri\", \"trained\", \"copula\", \"controllable\", \"hamiltonian\", \"decisions\", \"expected\", \"property\", \"recall\", \"hessian\", \"optimizing\", \"limited\", \"domains\", \"pac\", \"meta\", \"bayes\", \"minimax\", \"practical\", \"generating\", \"estimators\", \"tree\", \"neighbor\", \"perturbations\", \"space\", \"state\", \"mean\", \"variational\", \"preserving\", \"gaussian\", \"differential\", \"batch\", \"inverse\", \"inference\", \"processes\", \"deep\", \"bayesian\", \"regression\", \"learning\", \"time\", \"reinforcement\", \"estimation\", \"neural\", \"networks\", \"models\", \"wasserstein\", \"contextual\", \"acceleration\", \"evaluating\", \"augmentation\", \"limits\", \"mdps\", \"boosting\", \"average\", \"mirror\", \"verification\", \"weighting\", \"explicit\", \"multiagent\", \"fidelity\", \"interactive\", \"distance\", \"normalized\", \"pooling\", \"benchmark\", \"style\", \"quality\", \"assessing\", \"loss\", \"probabilities\", \"composition\", \"monotonic\", \"user\", \"many\", \"hard\", \"averaging\", \"descent\", \"dynamical\", \"constraints\", \"synthesis\", \"encoding\", \"process\", \"gradient\", \"unlabeled\", \"metric\", \"implicit\", \"accuracy\", \"bandits\", \"general\", \"entropy\", \"maximum\", \"stochastic\", \"regularization\", \"margin\", \"learning\", \"exploration\", \"graphical\", \"linear\", \"models\", \"systems\", \"data\", \"methods\", \"gaussian\", \"based\", \"via\", \"shot\", \"beyond\", \"guided\", \"partial\", \"layers\", \"domain\", \"family\", \"calibration\", \"thresholding\", \"specific\", \"convolution\", \"anomaly\", \"parameterized\", \"translation\", \"agents\", \"oracle\", \"fine\", \"repeated\", \"equivalence\", \"grained\", \"symbolic\", \"transforms\", \"autoencoder\", \"dimensions\", \"manipulation\", \"overlapping\", \"aggregated\", \"nonsmooth\", \"adversaries\", \"poincare\", \"manifold\", \"pca\", \"generative\", \"sample\", \"provable\", \"adaptation\", \"population\", \"discovery\", \"free\", \"complexity\", \"one\", \"low\", \"decoding\", \"probabilistic\", \"convex\", \"framework\", \"learning\", \"optimization\", \"neural\", \"fast\", \"networks\", \"models\", \"graph\", \"detection\", \"image\", \"adaptive\", \"bounds\", \"semantic\", \"transport\", \"parametric\", \"importance\", \"flexible\", \"equations\", \"consistency\", \"directed\", \"hyperbolic\", \"rewards\", \"equivariant\", \"lifelong\", \"extreme\", \"exponential\", \"counterfactual\", \"mutual\", \"concentration\", \"attention\", \"limitations\", \"operators\", \"category\", \"universality\", \"assignment\", \"tradeoffs\", \"bipartite\", \"spatiotemporal\", \"smoothing\", \"multinomial\", \"normalizing\", \"intrinsically\", \"quadrature\", \"scaling\", \"uncertainty\", \"structural\", \"augmented\", \"spectral\", \"reasoning\", \"self\", \"sparsity\", \"task\", \"view\", \"greedy\", \"similarity\", \"perspective\", \"sampling\", \"likelihood\", \"graph\", \"segmentation\", \"estimation\", \"multi\", \"learning\", \"image\", \"neural\", \"non\", \"linear\", \"networks\", \"consistent\", \"combinatorial\", \"weighted\", \"tight\", \"algorithmic\", \"concave\", \"observations\", \"cooperative\", \"compositional\", \"first\", \"replay\", \"balanced\", \"best\", \"compact\", \"softmax\", \"incomplete\", \"learners\", \"metrics\", \"mechanism\", \"shallow\", \"path\", \"randomized\", \"preferences\", \"product\", \"nearly\", \"tailed\", \"molecular\", \"curvature\", \"submodularity\", \"observation\", \"regions\", \"examples\", \"adversarial\", \"transfer\", \"driven\", \"submodular\", \"dual\", \"empirical\", \"embedding\", \"resolution\", \"minimization\", \"online\", \"learning\", \"bandits\", \"multi\", \"risk\", \"framework\", \"order\", \"deep\", \"networks\", \"rates\", \"neural\", \"zero\", \"completion\", \"autoencoders\", \"subspace\", \"smooth\", \"norm\", \"reward\", \"transformer\", \"modal\", \"teaching\", \"wise\", \"chains\", \"heterogeneous\", \"bottleneck\", \"imaging\", \"riemannian\", \"disentanglement\", \"constraint\", \"activation\", \"components\", \"link\", \"distributional\", \"measuring\", \"forests\", \"localized\", \"policies\", \"diversity\", \"frequency\", \"induced\", \"price\", \"predictions\", \"variable\", \"language\", \"latent\", \"tensor\", \"policy\", \"robustness\", \"structured\", \"private\", \"differentially\", \"regularized\", \"prediction\", \"flow\", \"ranking\", \"generalized\", \"online\", \"optimization\", \"gradient\", \"deep\", \"learning\", \"adaptive\", \"networks\", \"efficient\", \"models\", \"causal\", \"agent\", \"gradients\", \"recovery\", \"streaming\", \"samples\", \"aggregation\", \"theoretical\", \"trust\", \"multiplicative\", \"efficiently\", \"gap\", \"smoothed\", \"distances\", \"faster\", \"critic\", \"subspaces\", \"clusters\", \"orthogonal\", \"mcmc\", \"toward\", \"wide\", \"cnn\", \"distortion\", \"hilbert\", \"datasets\", \"biases\", \"logarithmic\", \"equilibrium\", \"varying\", \"solving\", \"distribution\", \"actor\", \"joint\", \"universal\", \"interaction\", \"region\", \"random\", \"factor\", \"video\", \"variables\", \"inference\", \"learning\", \"matrix\", \"time\", \"stochastic\", \"neural\", \"reinforcement\", \"networks\", \"prediction\", \"multi\", \"optimal\", \"games\"], \"Freq\": [326.0, 170.0, 177.0, 154.0, 178.0, 73.0, 86.0, 114.0, 85.0, 151.0, 102.0, 85.0, 73.0, 63.0, 124.0, 80.0, 76.0, 61.0, 68.0, 91.0, 54.0, 59.0, 101.0, 104.0, 91.0, 52.0, 61.0, 115.0, 76.0, 92.0, 59.965607685722986, 41.53048993893165, 31.655803333856223, 31.347434348377092, 30.313119907581765, 29.156483066592667, 26.54830845736763, 25.6568094862422, 25.303614839122783, 23.452757702597307, 43.255723874904625, 20.434336130008642, 19.302925547656375, 15.112672101422822, 15.565012377221485, 13.961143212953932, 28.68718745139668, 13.039978478779048, 17.47052010134587, 12.699632989824657, 13.862903862975802, 13.259801512713457, 14.941625059252354, 13.45158125670051, 16.653038695470034, 11.524452569527636, 12.759041090167694, 11.471150589498878, 13.080583548257579, 11.302223302580622, 58.479418720708, 41.89505180737382, 21.346209255313436, 18.491670979138505, 24.443914899400923, 28.496827483983147, 18.395787413259203, 17.08942360141237, 206.54376274446997, 16.714364755410163, 67.09429505087384, 40.46796014135804, 40.46795293437036, 23.671387079196748, 24.231849286833622, 35.11410880490724, 44.66293866889115, 27.495367898286926, 27.29212544039033, 42.952479057667986, 40.65457788041727, 41.923324820053566, 27.87691663669752, 76.5728964233824, 75.49580490719563, 60.712175936293605, 50.343306185806455, 45.77161480859793, 36.85553684220353, 40.70432411289801, 42.607379659463305, 34.66572966971375, 33.402683457334575, 33.34200422453898, 30.93681982864164, 31.69283283657061, 30.488754197412355, 72.087186700823, 49.98487111524142, 55.05445868963779, 40.73676189560435, 40.811319834331364, 33.433581583556936, 28.68202699194949, 27.54900002097148, 25.46150227263954, 23.407074176046116, 23.171622810128206, 22.933888876791507, 22.583652657176735, 19.78337297314555, 19.585262844603353, 69.8505268187994, 16.673423789907474, 76.64623706407268, 16.612918851991875, 15.855992453812117, 20.54609029646028, 21.215092482321918, 15.30913875886198, 19.271430284009107, 14.549253740559502, 14.466131281525344, 18.56904710634793, 13.590119978634524, 13.523906843085879, 14.535055744233958, 48.40652289092706, 19.06874968337113, 18.755473976714594, 30.65349986359867, 68.84824666167523, 44.196280141183585, 35.93353197021183, 34.120685970109314, 21.998377819610663, 31.511652700589387, 26.33548363833251, 76.52412059671032, 37.42567280025884, 36.83400570646851, 44.46270895362996, 33.21709883324243, 54.136585491685246, 36.70027536528706, 48.55984808600607, 33.388848243589585, 29.185776989765948, 33.23465841268396, 28.924740587176448, 27.39140324025527, 51.48915071183469, 39.93990692496753, 57.215922782842206, 47.86638181938198, 35.977407765810234, 25.616850013488406, 24.97815083135109, 25.03193413442381, 23.292548625876254, 21.43206726943398, 20.97564068730397, 17.989174937857218, 21.68409223734853, 16.542938098459224, 17.30886137224312, 16.171225918131714, 15.80366717425686, 15.853488784399092, 19.968443670970622, 14.624205965856834, 14.095929915407826, 15.225275104320557, 13.86344013988184, 13.84262615408164, 13.713955682165475, 25.43191867062645, 13.051128521856606, 16.60468102238924, 11.660922310198648, 13.121522551156934, 26.50610211681496, 40.38616204167349, 30.96865328387456, 25.581089091708083, 44.01026860940684, 86.3030648242879, 51.502074527187204, 26.11229413769259, 62.99766938242631, 60.46091768204213, 29.723482929239488, 40.7510846895664, 31.66875870643446, 22.80070535443092, 38.75460282341164, 38.08919240982378, 28.826527869612875, 73.97227746064186, 48.864212089167786, 44.464078722844576, 35.42045473536057, 38.05016127962599, 34.24948761401349, 31.340931636019498, 31.655131328236827, 30.813534284231142, 27.455202355722538, 28.041481576523502, 45.896591433939555, 37.98591302788018, 32.23487448918281, 35.59500110035722, 27.43657400548889, 24.59924401972507, 23.598479843193243, 23.296718434558272, 22.730812608443333, 22.2627148545155, 18.03422137360495, 78.62672359710473, 16.76914498704828, 15.483250339744865, 14.874154412948588, 22.063702409255225, 14.166699095603464, 14.094507851317095, 16.02862854577115, 16.677829887088897, 12.506830821310599, 22.02281046717963, 12.27790336233479, 12.096952586012533, 12.065598601409896, 13.60457459433919, 11.277494246813108, 14.90548367811381, 21.285308299119432, 13.526257424017023, 34.39571287472253, 60.825222992508024, 34.22140638354793, 33.546565742113614, 31.15238785255641, 19.37232796717238, 20.07570982086103, 40.600624254726085, 25.995586611547214, 21.677972817090204, 37.13293962598894, 37.73989020524712, 27.93251783112799, 65.42949237211775, 21.24687182116042, 53.32773073191718, 29.90192889332458, 28.05029621245111, 33.73994365379095, 55.68966248990322, 44.566961360183946, 49.80559442607143, 39.56739671520338, 33.24818265659205, 44.58882532804074, 32.82198360000908, 33.83765884081929, 31.072105112422808, 32.29499216097652, 31.61229822918279, 29.315670730404484, 50.15366673554477, 49.770103514040386, 31.219074872358348, 20.628362883953116, 20.587780068102987, 19.404239714099692, 18.202421978725067, 43.422273650061676, 18.861995787917678, 16.473526624128926, 16.079755144515907, 16.888499981839775, 14.251898407614704, 15.186013324439099, 14.047386124168801, 22.054692873463104, 38.03536225055106, 12.481644999658338, 13.16515137429776, 12.61535032873099, 12.15108430389058, 12.926428843041775, 12.380965367051058, 52.99863797836391, 12.526177766329479, 10.385018046291892, 10.112177832898668, 10.030008442183473, 12.961584996321262, 20.678352686306305, 20.67207702295502, 80.77632940704207, 32.61460652690584, 42.77891618968091, 37.639805989058466, 20.297533169198648, 58.532561022418896, 106.84290966101977, 17.83494782823237, 39.78621013299828, 35.50194102843877, 21.415136391023616, 53.153159013117985, 31.4569107980291, 27.089312339166533, 27.39988174227666, 60.68910978556727, 38.924348509185364, 24.86893665191302, 66.86853376386487, 28.253730650033773, 28.937490133934887, 35.852571119150625, 39.281753250078694, 25.035306092791487, 30.351717161720153, 26.312128057267508, 26.27595802060262, 26.69710579796008, 27.080697946237226, 61.93348131536171, 43.81993270696217, 32.24068216017171, 33.745742258812, 24.293300418810766, 57.05083917858336, 21.64753660649765, 21.416791108889715, 21.58789770617821, 19.27991706338056, 19.162356348222634, 17.675242428126804, 20.369074925022606, 32.44020527388488, 15.329938061344967, 16.30770451010637, 14.719759668932781, 13.066088457184586, 12.929165453404613, 12.712166348528276, 14.346231162571513, 11.994878161070423, 11.815527334299878, 14.725965032779131, 11.334723288373576, 11.232200941008239, 12.615113570301983, 10.39287069494419, 9.901189231502244, 9.783645160145426, 29.11677384265097, 32.61796384368278, 101.25921046373251, 61.771914390074826, 21.857485674621415, 31.818148755415447, 21.34832960699973, 24.87346448989193, 29.364780348991093, 39.67881629300488, 29.367995376571745, 43.17817824988168, 20.47640663741638, 34.66440240888941, 41.11647731905922, 31.57278861345146, 62.68848851708006, 44.4660478399329, 43.60448702352256, 32.16302218420283, 41.234792553200705, 33.98980418428958, 30.712636972201583, 26.824073596253687, 28.14959423837754, 27.511254534491, 24.939168668731728, 52.66350167108612, 50.61480378226733, 38.64586627306106, 36.981062254629336, 27.306764849803454, 19.322695161200194, 19.695057804747307, 16.814232900427715, 16.03478172429679, 17.775642658303905, 14.481923945425471, 13.822109578280305, 13.500985667524875, 27.97882304769441, 12.478105559737724, 16.882587347811235, 12.160536736000479, 59.11293984695146, 11.603329398785196, 16.002270327917383, 10.721633444060565, 10.52635485424233, 14.149679976317506, 13.528733591042055, 14.574298036150903, 9.231505962265823, 12.773356263744954, 8.858373865150622, 8.78733822904532, 8.583197702342403, 14.081632252693087, 17.045497326448263, 43.928521980970224, 24.297379061610503, 22.51184486975864, 49.13993845165814, 31.662572750312236, 47.5075122990038, 24.343065036694345, 43.84251769658679, 27.20450156201739, 25.276840570377846, 30.890490876910714, 24.029611864086746, 58.75512542859889, 23.041662568537415, 58.66816395455343, 26.605126318351733, 35.53436527062092, 37.75094153414008, 55.17281403262196, 29.891028863713796, 37.80835969300949, 26.849466166689076, 27.006585412287933, 27.12930664597188, 36.40640902912919, 35.019642846181405, 29.933291029776036, 28.43997861553363, 22.725314533495435, 22.110761881046255, 20.494063672513782, 20.439364515063364, 19.27526618338802, 24.18085123809482, 17.60854383065606, 16.804208677242123, 16.170192244396862, 16.059695914867998, 16.771236938098248, 17.15414731640871, 15.557307272089682, 15.153469511216473, 15.726686983569394, 14.480734603602869, 17.337692292998497, 24.452978576101255, 12.592322221063107, 23.66850283891288, 13.300038347270972, 11.269446216528529, 10.632074391205366, 10.113097213861387, 9.562481690279865, 9.427452809292687, 12.876061971469749, 20.235489365691414, 133.19447790341098, 46.3783650388403, 19.719533919595726, 44.149658266483684, 32.93961251291099, 28.791726412211627, 38.822877554891114, 19.79428780716221, 26.659700015654895, 36.575984054499415, 58.210440461234576, 28.125465659263412, 33.18326158326728, 22.082624160692372, 25.150259181300417, 23.231853596446978, 33.08108237024241, 31.0196168726669, 20.941912163380742, 23.394597643698003, 38.40452421705146, 35.67295157656462, 33.7424552251703, 30.87180372936522, 29.002926768447814, 28.32337256622102, 27.395532099006438, 20.625498359133633, 18.359865307500176, 19.83738202082612, 17.921595001709974, 17.102010377484227, 17.376162065033594, 14.45299522638385, 14.828401599015493, 13.741322622071461, 13.04773583791575, 15.457177733444473, 13.573908629142466, 14.347539604428714, 11.975797182738868, 11.569388622372289, 14.71687217294187, 15.921300144705299, 10.30570564909814, 22.887418363680904, 10.096927561029359, 9.93731193549706, 9.634913487395071, 10.063205660128752, 13.590407294186658, 30.09532773919389, 45.86413387541433, 61.691501313771376, 37.81910489882645, 71.92295449565822, 44.021973420234765, 51.81237477525271, 34.49571105130086, 24.357002933378322, 27.265537921006338, 40.21998269422877, 20.17914821106981, 21.196225294105314, 24.947872573736365, 32.92730640287601, 36.32650597467569, 31.897563555701062, 36.1669817528131, 33.51726805976009, 23.812442871481576, 26.391084460771417, 21.980667325954865, 21.661696363486133, 71.34637195366845, 44.18324833154748, 34.35828062833479, 32.78010724951807, 27.682985327181644, 24.875311763805854, 23.327610760454416, 21.38352592217701, 18.678281484288664, 18.12823619799428, 17.3598097562312, 17.258800535715608, 15.520240925566934, 14.099569273793108, 25.55181683527672, 17.435925372389637, 13.254459941488166, 12.573308950117482, 12.04714419635207, 20.825692359701275, 14.050304645116862, 12.974470495961638, 11.947486120277002, 11.078263615645437, 10.618106679933772, 10.577629647160789, 10.568233520555305, 9.976197323789942, 13.443747370144635, 10.600549824268933, 28.523995385810796, 33.28183451045078, 15.576912209475678, 26.08113082137679, 21.12302435723668, 15.932821303646369, 17.291244046412185, 39.875066409485925, 17.609552590036966, 24.09855842169939, 17.056974624172128, 32.149997200549514, 41.39669112734143, 22.54391031266647, 23.645781783016545, 24.453883051353824, 23.517756549743584, 21.412923341335915, 22.324059973845145, 19.752017291229638, 20.17447970366925, 18.6677026765444, 18.062684491464985], \"Total\": [326.0, 170.0, 177.0, 154.0, 178.0, 73.0, 86.0, 114.0, 85.0, 151.0, 102.0, 85.0, 73.0, 63.0, 124.0, 80.0, 76.0, 61.0, 68.0, 91.0, 54.0, 59.0, 101.0, 104.0, 91.0, 52.0, 61.0, 115.0, 76.0, 92.0, 61.82926440969, 43.39443422107858, 33.519504551898834, 33.2112645396514, 32.17677176004847, 31.020163744272875, 28.41200743215305, 27.520467524305058, 27.16730647331334, 25.316326604705708, 47.034313335049525, 22.478776587578263, 21.57935318822912, 16.976266958331376, 17.63984321419903, 15.824772152403122, 32.72783858860354, 14.906213487298961, 19.97235201088075, 14.563425580775544, 15.898271335455826, 15.253266731200801, 17.250102439920425, 15.581260347741482, 19.312925448481376, 13.388179306292647, 14.822850315921283, 13.335007860838758, 15.214035790959349, 13.166018130470174, 69.80833283627975, 50.48393758925678, 25.27623330452135, 21.881879251645213, 29.42766058967031, 34.82641819961954, 21.850236121216234, 20.211567385559622, 326.86940052396943, 19.75512605599001, 101.18991820828518, 59.09392477694743, 59.09392365595023, 30.581031088598376, 31.575440644508046, 51.47768248703412, 72.72266579063127, 38.548908303839234, 40.29630349492272, 84.55843665296275, 82.4951139837768, 88.70589732400842, 42.59102211946872, 370.1706558676465, 588.4352642544916, 340.3775802067849, 228.6793913779936, 207.49964366556154, 114.44061703135228, 163.77959457521203, 196.59531370792058, 114.93285246393394, 135.84731867725915, 154.78182029121322, 132.73832627725042, 257.03344270189814, 154.79115238703935, 73.92809524647429, 51.82583977912729, 57.20100786324563, 42.57734976643915, 42.7982933310467, 35.274497617812024, 30.52279358137226, 29.389657610020684, 27.302183299907533, 25.24791897922342, 25.012335554552905, 24.77434334262677, 24.4242221869329, 21.624672712452707, 21.42611723097323, 76.68346602372121, 18.513948836857928, 85.1274236119036, 18.453467180141626, 17.69651392043915, 22.946679590700654, 23.74696239613049, 17.151826708065187, 21.656875490930254, 16.389686113715012, 16.306606878725873, 21.026963345612984, 15.430670007331294, 15.364425886410961, 16.548544137779217, 58.0739033315944, 22.121168076328345, 22.181733027949413, 39.08632426364711, 112.57115859575345, 72.29802772110423, 57.458600802920294, 59.67461205231755, 29.858980583876143, 65.14174400985911, 46.51633691808355, 588.4352642544916, 113.21398276328802, 114.44061703135228, 194.14471473505105, 89.85988887662027, 370.1706558676465, 134.08339421334773, 340.3775802067849, 112.31908083177271, 82.4951139837768, 257.03344270189814, 143.9119874899534, 149.47871029922595, 53.3553467145465, 41.80611712777981, 59.94634108628519, 50.27026892909904, 38.39132068058136, 27.4824718727099, 26.84379282470804, 27.036074221522338, 25.15847203909433, 23.297832110441302, 22.84159605647919, 19.85474637065005, 24.1043817767342, 18.409040498224474, 19.294897452627737, 18.03708046369304, 17.669230718414454, 17.732104304667, 22.508624288287663, 16.490527976409748, 15.96140053005757, 17.255287419035234, 15.729207620212675, 15.708240068064894, 15.579669603145089, 29.16446984241036, 15.00670444878393, 19.214944874901196, 13.526800543372149, 15.253195177970213, 31.39100262123583, 48.54937384473196, 37.1655084659506, 34.79182571435823, 72.0500871227528, 177.1366377798043, 92.44593786400927, 36.93957178007745, 151.86484807820145, 149.47871029922595, 48.461473510741726, 82.05401795999344, 55.090706200087695, 31.923824400563, 89.88868313487576, 91.94768405175836, 56.0607611809658, 588.4352642544916, 228.6793913779936, 207.49964366556154, 170.2943017910947, 370.1706558676465, 251.3162352716036, 167.22912195459895, 192.12382949485286, 340.3775802067849, 92.48677632901162, 157.33428798221237, 47.864230403604715, 39.84794048179697, 34.09689129591191, 37.778463899942636, 29.298760967547, 26.461034206312323, 25.460531628574117, 25.16033909384107, 24.59279777440017, 24.124577539946724, 19.896301100647637, 86.95590269698376, 18.631239927162174, 17.34510983024949, 16.736123612460116, 24.842365969867124, 16.028974934318594, 15.95641811400563, 18.248108873566178, 19.005809024875884, 14.373273703231927, 25.32391305402051, 14.140203765307232, 13.9591403245165, 13.927506548172321, 15.827644110315635, 13.139262848678042, 17.380822489026414, 24.915283505767572, 15.87824190228699, 41.050930102281235, 80.19229801834236, 44.72079463890619, 45.39628720090473, 42.60480583860258, 24.36227351148057, 25.653020949524333, 62.72761975735962, 36.39754968685833, 28.776855795815475, 63.04808570576024, 64.97156651201072, 43.045156584688854, 163.77959457521203, 28.381084794081335, 138.85414317355264, 52.59155556298572, 47.122082804846926, 67.95386478658129, 182.55014017252742, 134.08339421334773, 326.86940052396943, 196.59531370792058, 140.71235092783488, 588.4352642544916, 143.9119874899534, 192.12382949485286, 154.78182029121322, 340.3775802067849, 370.1706558676465, 257.03344270189814, 52.024836485287146, 51.74191781666662, 33.090299950177666, 22.498911519452314, 22.458581094616665, 21.274453221790527, 20.072533077165215, 48.21789057258023, 20.97782280181022, 18.385789791681717, 17.950090278785538, 18.877036686419796, 16.122606999553025, 17.205541168177973, 15.917947170731084, 25.01535828814765, 43.65065326453518, 14.352149701993135, 15.14914093650461, 14.553259236200995, 14.021191030440859, 14.919756513628542, 14.4364097914196, 61.95239717750568, 14.743360478700964, 12.255237627444824, 11.982225849561196, 11.900254791725017, 15.482998148099094, 24.87368977240669, 24.898731636152778, 102.6959512798566, 40.59673282719378, 54.42715110480233, 50.52689718456082, 25.350414016883878, 87.04539044037392, 178.12855464609606, 22.00686158739075, 62.54168621068953, 55.077258444072434, 28.617867295841066, 104.47845936181069, 53.668252452325866, 42.80893999404244, 44.71779832789364, 202.6008323487713, 93.9285483087191, 41.90320858074661, 588.4352642544916, 66.54096362118094, 72.11948705128921, 149.61084567534581, 257.03344270189814, 56.655507077589576, 194.14471473505105, 112.31908083177271, 138.85414317355264, 178.48386844922425, 228.6793913779936, 63.809745856972924, 45.696531781786, 34.11695864820495, 36.24343172882917, 26.17040840108807, 61.71199994223541, 23.523496637547964, 23.292890450633383, 23.570599886633683, 21.15607194722893, 21.03855284902868, 19.551070782055955, 22.532102359939334, 36.37389533287898, 17.206019823710715, 18.542542663913785, 16.795556302969437, 14.942055605583732, 14.805409750081637, 14.588111547328735, 16.473425624119635, 13.870844864779238, 13.69171836010843, 17.075244200805596, 13.21155690345882, 13.108311705012813, 14.79457368702725, 12.268840206221634, 11.77723027549404, 11.659841622045715, 35.181402599816145, 43.392571657085696, 154.79115238703935, 91.0415427424064, 28.589265063847023, 45.38812512223848, 30.018767664426232, 37.18288038158294, 46.742437839588874, 71.52250231380638, 50.747913461491095, 91.94768405175836, 30.664694798003016, 81.07878312136063, 114.93285246393394, 81.63890836644275, 588.4352642544916, 251.3162352716036, 340.3775802067849, 129.1296677543519, 370.1706558676465, 257.03344270189814, 177.1366377798043, 90.23469935539948, 132.77391665737863, 138.0527892458065, 112.31639580655079, 54.533754496509026, 52.48545369915681, 40.51596486091297, 38.85119499623136, 29.458438613661865, 21.312471209841394, 21.783765767410614, 18.6842531156613, 17.914667766865215, 20.0594471187111, 16.353100273348556, 15.692432838675114, 15.371121811333325, 32.12871024213786, 14.348225902128647, 19.46081272611037, 14.030618105738093, 68.61614535207181, 13.473999953054074, 18.670403669652202, 12.591725635267535, 12.396522196403426, 16.684604299459625, 15.965360069089796, 17.44477751664885, 11.102319360572665, 15.425188729911055, 10.728785037693095, 10.657843623837254, 10.453231722553227, 17.244004212237417, 20.970227004458202, 56.64845932435416, 30.57624560626518, 28.261172720633486, 68.73035469954928, 42.202127326810924, 67.97823294383792, 32.561503655400024, 66.53625766035081, 39.36325482158872, 35.80774463294067, 47.166914497819704, 34.72740629709913, 124.34476487156269, 34.11306855579501, 177.1366377798043, 54.83609717434818, 154.78182029121322, 183.42985042338094, 588.4352642544916, 132.77391665737863, 340.3775802067849, 120.24982379138743, 149.61084567534581, 370.1706558676465, 38.29714128905771, 36.910277348105446, 31.823995874741563, 30.33092203879057, 24.616125308371526, 24.001849755012966, 22.384623191061728, 22.330251191882223, 21.166043680828906, 26.584443506128043, 19.499425984564677, 18.694788508643224, 18.06095507685221, 17.950535085655336, 18.751411613742786, 19.20031167021313, 17.447907044849188, 17.044215207331327, 17.735991537136183, 16.371691815388445, 19.655122371038516, 27.863624913504744, 14.482934344012342, 27.287369802015114, 15.57451253456608, 13.25290374155438, 12.522906269032296, 12.003889235153117, 11.453350842779786, 11.318779099262832, 15.480757557332668, 24.470410177114978, 170.2943017910947, 62.9793558888767, 24.73110001358154, 62.562605567549184, 46.601348238659234, 40.18887789191331, 62.504732038749, 25.929079595051604, 62.85704996925257, 151.86484807820145, 588.4352642544916, 104.47845936181069, 183.42985042338094, 49.7759382717841, 81.63890836644275, 61.787531494070905, 326.86940052396943, 370.1706558676465, 42.77339703873664, 340.3775802067849, 40.298328831332014, 37.566214735382864, 35.63735532332729, 32.764758964570454, 30.895979517273428, 30.21651167013753, 29.288828031579396, 22.5189142777215, 20.2531328168852, 21.907093019455846, 19.814730422730367, 18.994876843545114, 19.39303487385788, 16.34592018340007, 16.805823765498694, 15.634336153225727, 15.00995781931941, 17.808909022458543, 15.707608891197342, 16.611014283208267, 13.868613587243747, 13.477340580161462, 17.32339386882165, 18.786623450554508, 12.19865198869509, 27.12247434334004, 11.989751116619203, 11.830222361070385, 11.52787511301914, 12.114873189270677, 16.382200089727103, 36.713575915433424, 59.004007477300235, 85.20096572813513, 50.62068870807041, 114.08636870064858, 76.5077338782955, 115.9639319486131, 66.88856516168616, 42.29210889908096, 56.901939750761194, 125.80384604745228, 33.34642131009229, 40.69488306944083, 64.06170049661134, 151.86484807820145, 251.3162352716036, 178.12855464609606, 326.86940052396943, 588.4352642544916, 138.0527892458065, 370.1706558676465, 207.49964366556154, 257.03344270189814, 73.23365588056846, 46.07043934869437, 36.2454190842837, 34.667283317850575, 29.570039293193275, 26.76231156998113, 25.214742291551893, 23.270797796943405, 20.565260832207947, 20.015347446555595, 19.247318799172536, 19.160749647650018, 17.407430086634516, 15.986699949794843, 28.994450236438553, 19.940856033611595, 15.158759223385976, 14.460257438485222, 13.93400823241509, 24.101899580023375, 16.40430515705794, 15.162246502588694, 13.971860304788413, 12.96523685183972, 12.505109938697089, 12.464604926751223, 12.455715060718362, 11.863080132326528, 15.991046868597431, 12.6366003602718, 34.12982618027928, 45.69824916985979, 19.59905636204843, 37.50627340478695, 31.94154964692447, 21.743253984485804, 24.810658217132044, 95.54381791000242, 26.291563476902574, 46.746533261977746, 29.99475226732481, 182.55014017252742, 588.4352642544916, 92.44593786400927, 143.9119874899534, 202.6008323487713, 340.3775802067849, 192.12382949485286, 370.1706558676465, 125.80384604745228, 183.42985042338094, 167.22912195459895, 67.24618096979347], \"Category\": [\"Default\", \"Default\", \"Default\", \"Default\", \"Default\", \"Default\", \"Default\", \"Default\", \"Default\", \"Default\", \"Default\", \"Default\", \"Default\", \"Default\", \"Default\", \"Default\", \"Default\", \"Default\", \"Default\", \"Default\", \"Default\", \"Default\", \"Default\", \"Default\", \"Default\", \"Default\", \"Default\", \"Default\", \"Default\", \"Default\", \"Topic1\", \"Topic1\", \"Topic1\", \"Topic1\", \"Topic1\", \"Topic1\", \"Topic1\", \"Topic1\", \"Topic1\", \"Topic1\", \"Topic1\", \"Topic1\", \"Topic1\", \"Topic1\", \"Topic1\", \"Topic1\", \"Topic1\", \"Topic1\", \"Topic1\", \"Topic1\", \"Topic1\", \"Topic1\", \"Topic1\", \"Topic1\", \"Topic1\", \"Topic1\", \"Topic1\", \"Topic1\", \"Topic1\", \"Topic1\", \"Topic1\", \"Topic1\", \"Topic1\", \"Topic1\", \"Topic1\", \"Topic1\", \"Topic1\", \"Topic1\", \"Topic1\", \"Topic1\", \"Topic1\", \"Topic1\", \"Topic1\", \"Topic1\", \"Topic1\", \"Topic1\", \"Topic1\", \"Topic1\", \"Topic1\", \"Topic1\", \"Topic1\", \"Topic1\", \"Topic1\", \"Topic1\", \"Topic1\", \"Topic1\", \"Topic1\", \"Topic1\", \"Topic1\", \"Topic1\", \"Topic1\", \"Topic1\", \"Topic1\", \"Topic1\", \"Topic1\", \"Topic1\", \"Topic1\", \"Topic2\", \"Topic2\", \"Topic2\", \"Topic2\", \"Topic2\", \"Topic2\", \"Topic2\", \"Topic2\", \"Topic2\", \"Topic2\", \"Topic2\", \"Topic2\", \"Topic2\", \"Topic2\", \"Topic2\", \"Topic2\", \"Topic2\", \"Topic2\", \"Topic2\", \"Topic2\", \"Topic2\", \"Topic2\", \"Topic2\", \"Topic2\", \"Topic2\", \"Topic2\", \"Topic2\", \"Topic2\", \"Topic2\", \"Topic2\", \"Topic2\", \"Topic2\", \"Topic2\", \"Topic2\", \"Topic2\", \"Topic2\", \"Topic2\", \"Topic2\", \"Topic2\", \"Topic2\", \"Topic2\", \"Topic2\", \"Topic2\", \"Topic2\", \"Topic2\", \"Topic2\", \"Topic2\", \"Topic2\", \"Topic2\", \"Topic2\", \"Topic2\", \"Topic2\", \"Topic2\", \"Topic2\", \"Topic3\", \"Topic3\", \"Topic3\", \"Topic3\", \"Topic3\", \"Topic3\", \"Topic3\", \"Topic3\", \"Topic3\", \"Topic3\", \"Topic3\", \"Topic3\", \"Topic3\", \"Topic3\", \"Topic3\", \"Topic3\", \"Topic3\", \"Topic3\", \"Topic3\", \"Topic3\", \"Topic3\", \"Topic3\", \"Topic3\", \"Topic3\", \"Topic3\", \"Topic3\", \"Topic3\", \"Topic3\", \"Topic3\", \"Topic3\", \"Topic3\", \"Topic3\", \"Topic3\", \"Topic3\", \"Topic3\", \"Topic3\", \"Topic3\", \"Topic3\", \"Topic3\", \"Topic3\", \"Topic3\", \"Topic3\", \"Topic3\", \"Topic3\", \"Topic3\", \"Topic3\", \"Topic3\", \"Topic3\", \"Topic3\", \"Topic3\", \"Topic3\", \"Topic3\", \"Topic3\", \"Topic3\", \"Topic3\", \"Topic3\", \"Topic3\", \"Topic3\", \"Topic4\", \"Topic4\", \"Topic4\", \"Topic4\", \"Topic4\", \"Topic4\", \"Topic4\", \"Topic4\", \"Topic4\", \"Topic4\", \"Topic4\", \"Topic4\", \"Topic4\", \"Topic4\", \"Topic4\", \"Topic4\", \"Topic4\", \"Topic4\", \"Topic4\", \"Topic4\", \"Topic4\", \"Topic4\", \"Topic4\", \"Topic4\", \"Topic4\", \"Topic4\", \"Topic4\", \"Topic4\", \"Topic4\", \"Topic4\", \"Topic4\", \"Topic4\", \"Topic4\", \"Topic4\", \"Topic4\", \"Topic4\", \"Topic4\", \"Topic4\", \"Topic4\", \"Topic4\", \"Topic4\", \"Topic4\", \"Topic4\", \"Topic4\", \"Topic4\", \"Topic4\", \"Topic4\", \"Topic4\", \"Topic4\", \"Topic4\", \"Topic4\", \"Topic4\", \"Topic4\", \"Topic4\", \"Topic4\", \"Topic4\", \"Topic4\", \"Topic4\", \"Topic4\", \"Topic4\", \"Topic4\", \"Topic5\", \"Topic5\", \"Topic5\", \"Topic5\", \"Topic5\", \"Topic5\", \"Topic5\", \"Topic5\", \"Topic5\", \"Topic5\", \"Topic5\", \"Topic5\", \"Topic5\", \"Topic5\", \"Topic5\", \"Topic5\", \"Topic5\", \"Topic5\", \"Topic5\", \"Topic5\", \"Topic5\", \"Topic5\", \"Topic5\", \"Topic5\", \"Topic5\", \"Topic5\", \"Topic5\", \"Topic5\", \"Topic5\", \"Topic5\", \"Topic5\", \"Topic5\", \"Topic5\", \"Topic5\", \"Topic5\", \"Topic5\", \"Topic5\", \"Topic5\", \"Topic5\", \"Topic5\", \"Topic5\", \"Topic5\", \"Topic5\", \"Topic5\", \"Topic5\", \"Topic5\", \"Topic5\", \"Topic5\", \"Topic5\", \"Topic5\", \"Topic5\", \"Topic5\", \"Topic5\", \"Topic5\", \"Topic5\", \"Topic5\", \"Topic5\", \"Topic5\", \"Topic5\", \"Topic5\", \"Topic6\", \"Topic6\", \"Topic6\", \"Topic6\", \"Topic6\", \"Topic6\", \"Topic6\", \"Topic6\", \"Topic6\", \"Topic6\", \"Topic6\", \"Topic6\", \"Topic6\", \"Topic6\", \"Topic6\", \"Topic6\", \"Topic6\", \"Topic6\", \"Topic6\", \"Topic6\", \"Topic6\", \"Topic6\", \"Topic6\", \"Topic6\", \"Topic6\", \"Topic6\", \"Topic6\", \"Topic6\", \"Topic6\", \"Topic6\", \"Topic6\", \"Topic6\", \"Topic6\", \"Topic6\", \"Topic6\", \"Topic6\", \"Topic6\", \"Topic6\", \"Topic6\", \"Topic6\", \"Topic6\", \"Topic6\", \"Topic6\", \"Topic6\", \"Topic6\", \"Topic6\", \"Topic6\", \"Topic6\", \"Topic6\", \"Topic6\", \"Topic6\", \"Topic6\", \"Topic6\", \"Topic6\", \"Topic6\", \"Topic6\", \"Topic6\", \"Topic7\", \"Topic7\", \"Topic7\", \"Topic7\", \"Topic7\", \"Topic7\", \"Topic7\", \"Topic7\", \"Topic7\", \"Topic7\", \"Topic7\", \"Topic7\", \"Topic7\", \"Topic7\", \"Topic7\", \"Topic7\", \"Topic7\", \"Topic7\", \"Topic7\", \"Topic7\", \"Topic7\", \"Topic7\", \"Topic7\", \"Topic7\", \"Topic7\", \"Topic7\", \"Topic7\", \"Topic7\", \"Topic7\", \"Topic7\", \"Topic7\", \"Topic7\", \"Topic7\", \"Topic7\", \"Topic7\", \"Topic7\", \"Topic7\", \"Topic7\", \"Topic7\", \"Topic7\", \"Topic7\", \"Topic7\", \"Topic7\", \"Topic7\", \"Topic7\", \"Topic7\", \"Topic7\", \"Topic7\", \"Topic7\", \"Topic7\", \"Topic7\", \"Topic7\", \"Topic7\", \"Topic7\", \"Topic7\", \"Topic7\", \"Topic8\", \"Topic8\", \"Topic8\", \"Topic8\", \"Topic8\", \"Topic8\", \"Topic8\", \"Topic8\", \"Topic8\", \"Topic8\", \"Topic8\", \"Topic8\", \"Topic8\", \"Topic8\", \"Topic8\", \"Topic8\", \"Topic8\", \"Topic8\", \"Topic8\", \"Topic8\", \"Topic8\", \"Topic8\", \"Topic8\", \"Topic8\", \"Topic8\", \"Topic8\", \"Topic8\", \"Topic8\", \"Topic8\", \"Topic8\", \"Topic8\", \"Topic8\", \"Topic8\", \"Topic8\", \"Topic8\", \"Topic8\", \"Topic8\", \"Topic8\", \"Topic8\", \"Topic8\", \"Topic8\", \"Topic8\", \"Topic8\", \"Topic8\", \"Topic8\", \"Topic8\", \"Topic8\", \"Topic8\", \"Topic8\", \"Topic8\", \"Topic8\", \"Topic8\", \"Topic9\", \"Topic9\", \"Topic9\", \"Topic9\", \"Topic9\", \"Topic9\", \"Topic9\", \"Topic9\", \"Topic9\", \"Topic9\", \"Topic9\", \"Topic9\", \"Topic9\", \"Topic9\", \"Topic9\", \"Topic9\", \"Topic9\", \"Topic9\", \"Topic9\", \"Topic9\", \"Topic9\", \"Topic9\", \"Topic9\", \"Topic9\", \"Topic9\", \"Topic9\", \"Topic9\", \"Topic9\", \"Topic9\", \"Topic9\", \"Topic9\", \"Topic9\", \"Topic9\", \"Topic9\", \"Topic9\", \"Topic9\", \"Topic9\", \"Topic9\", \"Topic9\", \"Topic9\", \"Topic9\", \"Topic9\", \"Topic9\", \"Topic9\", \"Topic9\", \"Topic9\", \"Topic9\", \"Topic9\", \"Topic9\", \"Topic9\", \"Topic9\", \"Topic9\", \"Topic9\", \"Topic9\", \"Topic10\", \"Topic10\", \"Topic10\", \"Topic10\", \"Topic10\", \"Topic10\", \"Topic10\", \"Topic10\", \"Topic10\", \"Topic10\", \"Topic10\", \"Topic10\", \"Topic10\", \"Topic10\", \"Topic10\", \"Topic10\", \"Topic10\", \"Topic10\", \"Topic10\", \"Topic10\", \"Topic10\", \"Topic10\", \"Topic10\", \"Topic10\", \"Topic10\", \"Topic10\", \"Topic10\", \"Topic10\", \"Topic10\", \"Topic10\", \"Topic10\", \"Topic10\", \"Topic10\", \"Topic10\", \"Topic10\", \"Topic10\", \"Topic10\", \"Topic10\", \"Topic10\", \"Topic10\", \"Topic10\", \"Topic10\", \"Topic10\", \"Topic10\", \"Topic10\", \"Topic10\", \"Topic10\", \"Topic10\", \"Topic10\", \"Topic10\", \"Topic10\", \"Topic10\", \"Topic10\"], \"logprob\": [30.0, 29.0, 28.0, 27.0, 26.0, 25.0, 24.0, 23.0, 22.0, 21.0, 20.0, 19.0, 18.0, 17.0, 16.0, 15.0, 14.0, 13.0, 12.0, 11.0, 10.0, 9.0, 8.0, 7.0, 6.0, 5.0, 4.0, 3.0, 2.0, 1.0, -4.8602, -5.2275, -5.499, -5.5088, -5.5424, -5.5813, -5.675, -5.7091, -5.723, -5.799, -5.1868, -5.9367, -5.9937, -6.2384, -6.2089, -6.3177, -5.5975, -6.3859, -6.0934, -6.4124, -6.3247, -6.3692, -6.2498, -6.3549, -6.1414, -6.5095, -6.4077, -6.5141, -6.3828, -6.529, -4.8853, -5.2188, -5.8931, -6.0366, -5.7576, -5.6042, -6.0418, -6.1155, -3.6234, -6.1377, -4.7479, -5.2534, -5.2534, -5.7897, -5.7663, -5.3954, -5.1548, -5.6399, -5.6474, -5.1939, -5.2488, -5.2181, -5.6262, -4.6157, -4.6299, -4.8478, -5.0351, -5.1303, -5.347, -5.2476, -5.2019, -5.4082, -5.4453, -5.4471, -5.522, -5.4979, -5.5366, -4.6634, -5.0296, -4.933, -5.2342, -5.2323, -5.4317, -5.585, -5.6253, -5.7041, -5.7883, -5.7984, -5.8087, -5.8241, -5.9565, -5.9665, -4.6949, -6.1275, -4.6021, -6.1311, -6.1778, -5.9186, -5.8866, -6.2128, -5.9827, -6.2638, -6.2695, -6.0198, -6.332, -6.3368, -6.2647, -5.0617, -5.9932, -6.0098, -5.5186, -4.7094, -5.1527, -5.3596, -5.4114, -5.8503, -5.4909, -5.6704, -4.6037, -5.3189, -5.3349, -5.1466, -5.4382, -4.9498, -5.3385, -5.0585, -5.4331, -5.5676, -5.4377, -5.5766, -5.6311, -4.8358, -5.0898, -4.7303, -4.9088, -5.1943, -5.5339, -5.5592, -5.557, -5.629, -5.7123, -5.7338, -5.8874, -5.7006, -5.9712, -5.926, -5.9939, -6.0169, -6.0138, -5.783, -6.0945, -6.1313, -6.0542, -6.1479, -6.1494, -6.1588, -5.5412, -6.2083, -5.9675, -6.3209, -6.2029, -5.4998, -5.0787, -5.3442, -5.5353, -4.9927, -4.3193, -4.8355, -5.5148, -4.6341, -4.6752, -5.3852, -5.0697, -5.3218, -5.6504, -5.1199, -5.1372, -5.4159, -4.4735, -4.8881, -4.9825, -5.2099, -5.1383, -5.2435, -5.3322, -5.3223, -5.3492, -5.4646, -5.4435, -4.943, -5.1322, -5.2964, -5.1972, -5.4576, -5.5667, -5.6082, -5.6211, -5.6457, -5.6665, -5.8772, -4.4047, -5.9499, -6.0297, -6.0698, -5.6755, -6.1185, -6.1236, -5.9951, -5.9553, -6.2432, -5.6773, -6.2616, -6.2765, -6.2791, -6.159, -6.3466, -6.0677, -5.7114, -6.1648, -5.2315, -4.6614, -5.2366, -5.2565, -5.3305, -5.8056, -5.7699, -5.0656, -5.5115, -5.6931, -5.1549, -5.1387, -5.4396, -4.5885, -5.7132, -4.793, -5.3715, -5.4354, -5.2507, -4.7496, -4.9724, -4.8613, -5.0914, -5.2654, -4.9719, -5.2783, -5.2479, -5.3331, -5.2945, -5.3159, -5.3913, -4.8191, -4.8268, -5.2932, -5.7076, -5.7095, -5.7687, -5.8327, -4.9633, -5.7971, -5.9325, -5.9567, -5.9076, -6.0773, -6.0139, -6.0918, -5.6407, -5.0957, -6.21, -6.1567, -6.1993, -6.2368, -6.175, -6.2181, -4.764, -6.2064, -6.3939, -6.4205, -6.4287, -6.1722, -5.7051, -5.7055, -4.3426, -5.2495, -4.9782, -5.1062, -5.7237, -4.6647, -4.0629, -5.8531, -5.0507, -5.1646, -5.6701, -4.7611, -5.2856, -5.4351, -5.4237, -4.6285, -5.0726, -5.5206, -4.5315, -5.393, -5.3691, -5.1548, -5.0635, -5.5139, -5.3214, -5.4642, -5.4656, -5.4497, -5.4354, -4.5663, -4.9122, -5.2191, -5.1735, -5.5021, -4.6484, -5.6174, -5.6282, -5.6202, -5.7333, -5.7394, -5.8202, -5.6783, -5.2129, -5.9625, -5.9007, -6.0031, -6.1223, -6.1328, -6.1498, -6.0288, -6.2079, -6.2229, -6.0027, -6.2645, -6.2735, -6.1574, -6.3512, -6.3997, -6.4116, -5.321, -5.2075, -4.0746, -4.5689, -5.6078, -5.2323, -5.6314, -5.4785, -5.3125, -5.0115, -5.3124, -4.927, -5.6731, -5.1466, -4.9759, -5.24, -4.5542, -4.8976, -4.9172, -5.2215, -4.973, -5.1663, -5.2677, -5.403, -5.3548, -5.3777, -5.4759, -4.6805, -4.7202, -4.99, -5.034, -5.3373, -5.6831, -5.664, -5.8222, -5.8696, -5.7666, -5.9715, -6.0181, -6.0416, -5.313, -6.1204, -5.8181, -6.1462, -4.565, -6.1931, -5.8717, -6.2721, -6.2905, -5.9947, -6.0396, -5.9651, -6.4218, -6.097, -6.463, -6.4711, -6.4946, -5.9995, -5.8085, -4.8618, -5.454, -5.5304, -4.7497, -5.1893, -4.7835, -5.4522, -4.8638, -5.341, -5.4145, -5.214, -5.4651, -4.571, -5.5071, -4.5725, -5.3633, -5.0739, -5.0134, -4.6339, -5.2469, -5.0119, -5.3542, -5.3483, -5.3438, -4.9952, -5.034, -5.191, -5.2422, -5.4665, -5.4939, -5.5698, -5.5725, -5.6311, -5.4044, -5.7216, -5.7683, -5.8068, -5.8136, -5.7703, -5.7477, -5.8454, -5.8717, -5.8346, -5.9171, -5.7371, -5.3932, -6.0569, -5.4258, -6.0022, -6.1679, -6.2261, -6.2761, -6.3321, -6.3463, -6.0346, -5.5825, -3.6981, -4.7531, -5.6083, -4.8024, -5.0953, -5.2299, -4.9309, -5.6046, -5.3068, -4.9906, -4.5259, -5.2533, -5.0879, -5.4952, -5.3651, -5.4444, -5.091, -5.1553, -5.5482, -5.4374, -4.9082, -4.982, -5.0376, -5.1265, -5.189, -5.2127, -5.246, -5.5298, -5.6462, -5.5688, -5.6703, -5.7172, -5.7013, -5.8855, -5.8598, -5.9359, -5.9877, -5.8183, -5.9482, -5.8928, -6.0735, -6.108, -5.8674, -5.7887, -6.2237, -5.4258, -6.2441, -6.2601, -6.291, -6.2475, -5.947, -5.152, -4.7307, -4.4342, -4.9235, -4.2808, -4.7717, -4.6087, -5.0155, -5.3635, -5.2507, -4.862, -5.5517, -5.5025, -5.3396, -5.062, -4.9638, -5.0938, -4.9682, -5.0443, -5.3861, -5.2833, -5.4662, -5.4808, -4.2339, -4.7131, -4.9646, -5.0117, -5.1807, -5.2876, -5.3518, -5.4389, -5.5741, -5.604, -5.6473, -5.6532, -5.7593, -5.8553, -5.2608, -5.643, -5.9172, -5.9699, -6.0127, -5.4653, -5.8588, -5.9385, -6.021, -6.0965, -6.1389, -6.1427, -6.1436, -6.2013, -5.903, -6.1406, -5.1507, -4.9965, -5.7557, -5.2403, -5.4511, -5.7331, -5.6513, -4.8157, -5.633, -5.3193, -5.6649, -5.0311, -4.7783, -5.386, -5.3383, -5.3047, -5.3437, -5.4375, -5.3958, -5.5182, -5.4971, -5.5747, -5.6076], \"loglift\": [30.0, 29.0, 28.0, 27.0, 26.0, 25.0, 24.0, 23.0, 22.0, 21.0, 20.0, 19.0, 18.0, 17.0, 16.0, 15.0, 14.0, 13.0, 12.0, 11.0, 10.0, 9.0, 8.0, 7.0, 6.0, 5.0, 4.0, 3.0, 2.0, 1.0, 2.0446, 2.0313, 2.018, 2.0174, 2.0155, 2.0132, 2.0073, 2.0051, 2.0041, 1.9987, 1.9914, 1.9798, 1.9637, 1.9589, 1.9501, 1.9499, 1.9434, 1.9414, 1.9414, 1.9383, 1.9382, 1.9351, 1.9315, 1.9282, 1.927, 1.9253, 1.9253, 1.9246, 1.9241, 1.9226, 1.8981, 1.8887, 1.9062, 1.9069, 1.8896, 1.8746, 1.9031, 1.9074, 1.6161, 1.908, 1.6643, 1.6966, 1.6966, 1.8191, 1.8105, 1.6926, 1.5877, 1.7373, 1.6855, 1.3978, 1.3676, 1.3257, 1.6513, 0.4995, 0.0218, 0.3513, 0.5617, 0.5637, 0.9421, 0.683, 0.5461, 0.8766, 0.6723, 0.54, 0.6188, -0.0179, 0.4505, 2.0626, 2.0517, 2.0496, 2.0437, 2.0403, 2.0342, 2.0256, 2.0232, 2.018, 2.0121, 2.0114, 2.0107, 2.0095, 1.9989, 1.998, 1.9945, 1.9831, 1.9829, 1.9828, 1.978, 1.9773, 1.9751, 1.9742, 1.9711, 1.9687, 1.9681, 1.9635, 1.9608, 1.9603, 1.9581, 1.9058, 1.9394, 1.9201, 1.8448, 1.5962, 1.5957, 1.6185, 1.5288, 1.7823, 1.3616, 1.519, 0.048, 0.9809, 0.9542, 0.6139, 1.0927, 0.1654, 0.7922, 0.1406, 0.8747, 1.0488, 0.0422, 0.4833, 0.3909, 2.2164, 2.2063, 2.2054, 2.203, 2.187, 2.1817, 2.1799, 2.175, 2.1749, 2.1685, 2.1668, 2.1533, 2.1462, 2.1451, 2.1434, 2.1428, 2.1404, 2.14, 2.1322, 2.1319, 2.1277, 2.1268, 2.1257, 2.1255, 2.1244, 2.115, 2.1124, 2.106, 2.1035, 2.1014, 2.0828, 2.0679, 2.0696, 1.9444, 1.759, 1.5329, 1.667, 1.9051, 1.3721, 1.3468, 1.7631, 1.5521, 1.6983, 1.9154, 1.4107, 1.3707, 1.5868, 0.1782, 0.7087, 0.7115, 0.6817, -0.0231, 0.2589, 0.5775, 0.4487, -0.1501, 1.0375, 0.5273, 2.2177, 2.2119, 2.2036, 2.2002, 2.1941, 2.1868, 2.1838, 2.1828, 2.181, 2.1794, 2.1615, 2.159, 2.1544, 2.1462, 2.1418, 2.1411, 2.1362, 2.1356, 2.13, 2.1291, 2.1206, 2.12, 2.1185, 2.1165, 2.1162, 2.1084, 2.1069, 2.1061, 2.1023, 2.0994, 2.0828, 1.9833, 1.9921, 1.9572, 1.9466, 2.0305, 2.0146, 1.8247, 1.9231, 1.9764, 1.7303, 1.7165, 1.8273, 1.3422, 1.9702, 1.3028, 1.6951, 1.741, 1.5596, 1.0725, 1.1582, 0.3783, 0.6566, 0.817, -0.3203, 0.7816, 0.5232, 0.654, -0.0954, -0.2007, 0.0886, 2.2583, 2.2561, 2.2367, 2.2081, 2.2079, 2.2029, 2.1971, 2.1902, 2.1886, 2.1851, 2.1849, 2.1836, 2.1716, 2.1701, 2.1699, 2.1689, 2.1572, 2.1553, 2.1545, 2.152, 2.1518, 2.1515, 2.1413, 2.1388, 2.1319, 2.1293, 2.1252, 2.1239, 2.1172, 2.1102, 2.1089, 2.0548, 2.076, 2.0541, 2.0005, 2.0726, 1.8981, 1.7838, 2.0847, 1.8426, 1.8558, 2.005, 1.6191, 1.7607, 1.8373, 1.8051, 1.0894, 1.414, 1.7732, 0.1202, 1.4383, 1.3817, 0.8663, 0.4165, 1.4782, 0.4392, 0.8436, 0.6301, 0.395, 0.1614, 2.307, 2.2949, 2.2803, 2.2654, 2.2624, 2.2583, 2.2537, 2.2528, 2.2489, 2.244, 2.2434, 2.236, 2.2359, 2.2224, 2.2214, 2.2084, 2.2049, 2.2027, 2.2013, 2.1992, 2.1986, 2.1915, 2.1894, 2.1888, 2.1836, 2.1824, 2.1775, 2.1709, 2.1633, 2.1614, 2.1476, 2.0514, 1.9124, 1.9489, 2.0683, 1.9816, 1.996, 1.9348, 1.872, 1.7476, 1.7899, 1.5809, 1.933, 1.4871, 1.3089, 1.3868, 0.0975, 0.6048, 0.2819, 0.9468, 0.1421, 0.3137, 0.5846, 1.1237, 0.7857, 0.7238, 0.8319, 2.3498, 2.3484, 2.3375, 2.3354, 2.3089, 2.2867, 2.2839, 2.2793, 2.2739, 2.2639, 2.2632, 2.2578, 2.255, 2.2464, 2.2451, 2.2426, 2.2417, 2.2357, 2.2353, 2.2305, 2.224, 2.2212, 2.2199, 2.2191, 2.205, 2.2002, 2.1961, 2.1932, 2.1918, 2.1876, 2.1821, 2.1775, 2.1304, 2.1549, 2.1573, 2.0492, 2.0974, 2.0264, 2.0939, 1.9676, 2.0153, 2.0365, 1.9615, 2.0165, 1.6351, 1.9924, 1.2797, 1.6615, 0.9132, 0.8039, 0.0177, 0.8936, 0.1872, 0.8854, 0.6728, -0.2286, 2.3886, 2.3866, 2.3779, 2.3748, 2.3593, 2.3571, 2.351, 2.3507, 2.3456, 2.3444, 2.3372, 2.3326, 2.3286, 2.3279, 2.3276, 2.3265, 2.3245, 2.3216, 2.319, 2.3165, 2.3137, 2.3086, 2.2993, 2.2969, 2.2813, 2.2771, 2.2755, 2.2678, 2.2588, 2.2564, 2.255, 2.2492, 2.1935, 2.1332, 2.2127, 2.0906, 2.0922, 2.1057, 1.963, 2.1692, 1.5815, 1.0156, 0.1258, 1.1269, 0.7294, 1.6265, 1.2618, 1.461, 0.1486, -0.0401, 1.725, -0.2384, 2.4247, 2.4211, 2.4182, 2.4133, 2.4096, 2.4081, 2.406, 2.385, 2.3747, 2.3736, 2.3724, 2.3678, 2.363, 2.3497, 2.3476, 2.3437, 2.3327, 2.3312, 2.3268, 2.3263, 2.3261, 2.3201, 2.3097, 2.3073, 2.3042, 2.303, 2.301, 2.2984, 2.2934, 2.2872, 2.286, 2.274, 2.2209, 2.1499, 2.1812, 2.0114, 1.9201, 1.6671, 1.8106, 1.921, 1.7371, 1.3324, 1.9705, 1.8205, 1.5297, 0.9441, 0.5386, 0.7528, 0.2714, -0.3926, 0.7154, -0.1681, 0.2278, -0.0009, 2.5016, 2.4858, 2.4742, 2.4717, 2.4617, 2.4545, 2.4499, 2.4431, 2.4314, 2.4286, 2.4244, 2.4231, 2.4129, 2.402, 2.4013, 2.3934, 2.3934, 2.3878, 2.3822, 2.3816, 2.3728, 2.3718, 2.3711, 2.3704, 2.3641, 2.3635, 2.3633, 2.3544, 2.3541, 2.352, 2.3482, 2.2106, 2.298, 2.1644, 2.1141, 2.2167, 2.1666, 1.6538, 2.1269, 1.8651, 1.9632, 0.7911, -0.1266, 1.1165, 0.7216, 0.4132, -0.1446, 0.3335, -0.2806, 0.6762, 0.3202, 0.3351, 1.2132]}, \"token.table\": {\"Topic\": [1, 10, 1, 4, 5, 4, 5, 4, 9, 4, 7, 10, 2, 6, 7, 9, 2, 3, 4, 5, 6, 7, 8, 9, 10, 3, 8, 2, 6, 10, 6, 6, 10, 1, 7, 8, 1, 2, 3, 1, 2, 3, 4, 5, 6, 7, 8, 9, 10, 6, 2, 3, 4, 5, 6, 8, 10, 5, 2, 7, 1, 3, 9, 2, 9, 2, 7, 8, 9, 5, 7, 10, 3, 6, 9, 2, 5, 1, 5, 3, 8, 2, 5, 7, 8, 9, 1, 2, 3, 4, 5, 6, 7, 8, 9, 10, 2, 4, 2, 4, 7, 8, 1, 2, 3, 4, 5, 6, 7, 8, 9, 10, 5, 8, 6, 10, 7, 8, 1, 4, 7, 3, 5, 7, 8, 9, 1, 2, 3, 4, 5, 6, 8, 4, 6, 1, 2, 6, 10, 3, 4, 7, 7, 10, 2, 9, 10, 10, 1, 2, 3, 4, 5, 7, 8, 3, 8, 3, 7, 8, 9, 2, 3, 4, 5, 6, 7, 9, 10, 9, 5, 8, 1, 6, 7, 8, 7, 2, 9, 4, 4, 7, 8, 9, 5, 10, 5, 4, 1, 2, 3, 5, 7, 8, 9, 4, 1, 3, 5, 6, 6, 1, 3, 7, 8, 1, 4, 9, 4, 7, 4, 10, 2, 3, 8, 8, 1, 2, 3, 4, 5, 6, 7, 8, 9, 10, 10, 4, 4, 5, 6, 8, 2, 1, 4, 8, 9, 2, 3, 3, 4, 5, 6, 7, 8, 9, 1, 1, 2, 3, 4, 5, 6, 7, 8, 10, 2, 1, 4, 6, 10, 3, 4, 5, 8, 9, 1, 4, 5, 6, 7, 1, 2, 6, 7, 9, 1, 2, 5, 10, 10, 1, 7, 10, 9, 2, 4, 9, 4, 6, 4, 8, 3, 3, 2, 8, 2, 4, 7, 8, 4, 5, 6, 10, 1, 5, 9, 1, 2, 3, 4, 5, 6, 7, 8, 9, 10, 1, 3, 8, 6, 8, 5, 6, 1, 1, 4, 8, 3, 1, 4, 5, 6, 7, 8, 10, 6, 7, 1, 2, 3, 4, 5, 6, 7, 8, 9, 10, 2, 3, 4, 7, 5, 2, 3, 6, 8, 9, 10, 4, 4, 1, 2, 1, 9, 5, 4, 5, 8, 10, 2, 7, 7, 1, 4, 5, 6, 10, 3, 8, 2, 10, 6, 1, 2, 5, 6, 7, 8, 9, 10, 2, 9, 10, 1, 2, 5, 6, 10, 5, 6, 5, 8, 2, 7, 7, 9, 4, 8, 9, 3, 2, 6, 7, 8, 10, 1, 10, 1, 2, 6, 9, 9, 1, 2, 1, 2, 3, 4, 5, 6, 7, 8, 9, 10, 10, 1, 2, 3, 4, 5, 7, 8, 9, 10, 4, 5, 7, 8, 3, 4, 5, 6, 7, 9, 4, 5, 6, 9, 2, 6, 9, 10, 1, 4, 6, 2, 6, 9, 1, 5, 6, 7, 8, 2, 3, 4, 5, 7, 8, 9, 10, 10, 6, 3, 6, 7, 1, 2, 5, 6, 7, 4, 6, 7, 9, 2, 5, 8, 1, 4, 6, 6, 4, 5, 5, 8, 4, 9, 10, 7, 3, 9, 1, 1, 2, 3, 4, 5, 6, 7, 8, 10, 9, 2, 3, 5, 6, 8, 9, 10, 7, 2, 8, 1, 2, 5, 9, 1, 2, 3, 4, 5, 7, 8, 10, 3, 10, 1, 5, 2, 7, 3, 1, 2, 4, 6, 7, 3, 10, 4, 10, 1, 2, 4, 5, 6, 9, 10, 1, 2, 3, 6, 7, 8, 1, 2, 6, 7, 1, 3, 3, 6, 9, 1, 9, 6, 8, 1, 2, 3, 4, 5, 6, 7, 8, 9, 10, 1, 7, 2, 5, 6, 7, 7, 4, 8, 5, 1, 2, 3, 4, 5, 6, 7, 9, 10, 9, 9, 4, 10, 3, 5, 3, 5, 6, 5, 6, 6, 5, 9, 2, 3, 4, 5, 7, 8, 1, 2, 3, 4, 5, 6, 8, 9, 10, 2, 2, 3, 4, 6, 10, 4, 2, 5, 6, 7, 8, 6, 10, 5, 1, 4, 5, 8, 9, 10, 2, 7, 9, 8, 3, 4, 6, 1, 2, 3, 4, 5, 7, 8, 9, 10, 1, 2, 4, 5, 7, 8, 2, 3, 5, 8, 4, 5, 1, 3, 5, 7, 8, 9, 10, 5, 2, 4, 9, 1, 2, 3, 4, 5, 6, 7, 8, 9, 10, 8, 5, 1, 2, 6, 10, 1, 2, 3, 4, 5, 6, 7, 8, 9, 10, 5, 2, 3, 7, 10, 3, 4, 7, 8, 3, 2, 8, 4, 5, 6, 1, 2, 3, 4, 5, 6, 7, 8, 9, 10, 1, 2, 3, 4, 5, 6, 7, 8, 9, 10, 1, 2, 3, 5, 6, 7, 8, 9, 10, 3, 4, 7, 6, 9, 3, 4, 5, 7, 8, 8, 3, 3, 4, 5, 6, 8, 10, 3, 4, 8, 9, 3, 7, 1, 2, 3, 4, 5, 6, 7, 8, 9, 10, 1, 1, 2, 3, 4, 5, 6, 7, 8, 9, 10, 1, 2, 4, 1, 6, 10, 1, 2, 3, 4, 5, 6, 8, 10, 10, 1, 3, 6, 1, 4, 7, 4, 6, 7, 5, 6, 1, 2, 3, 8, 2, 3, 4, 6, 1, 4, 7, 8, 1, 2, 4, 1, 2, 6, 1, 2, 3, 7, 8, 2, 1, 9, 1, 2, 3, 5, 9, 2, 3, 4, 5, 1, 6, 10, 2, 3, 1, 1, 4, 5, 9, 1, 2, 3, 4, 6, 7, 9, 10, 6, 9, 2, 8, 4, 7, 9, 1, 1, 2, 5, 2, 6, 4, 2, 3, 4, 5, 6, 8, 9, 1, 2, 5, 6, 7, 8, 9, 10, 5, 3, 5, 6, 8, 9, 1, 2, 3, 4, 5, 6, 10, 2, 7, 8, 4, 5, 6, 1, 1, 7, 10, 5, 1, 4, 2, 4, 7, 9, 10, 8, 10, 1, 2, 3, 4, 5, 6, 7, 3, 9, 1, 2, 8, 6, 7, 9, 4, 10, 1, 2, 3, 4, 6, 7, 8, 9, 10, 1, 1, 2, 4, 5, 7, 8, 7, 8, 10, 5, 8, 1, 2, 3, 4, 5, 6, 7, 8, 9, 10, 3, 5, 6, 7, 8, 2, 9, 10, 1, 1, 2, 3, 4, 5, 6, 7, 8, 9, 10, 3, 6, 8, 1, 2, 3, 7, 8, 10, 3, 2, 4, 8, 3, 2, 9, 1, 7, 9, 1, 3, 4, 7, 8, 1, 2, 3, 5, 7, 8, 6, 8, 9, 3, 2, 1, 3, 4, 6, 10, 2, 4, 6, 7, 1, 2, 3, 6, 9, 2, 5, 7, 2, 3, 4, 6, 7, 8, 9, 10, 1, 3, 4, 6, 7, 8, 9, 10, 7, 2, 3, 2, 2, 1, 2, 6, 8, 10, 1, 8, 6, 2, 6, 7, 9, 1, 2, 3, 6, 9, 10, 2, 7, 8, 5, 10, 4, 6, 7, 8, 9, 10, 1, 2, 3, 4, 6, 7, 8, 9, 10, 6, 7, 10, 7, 6, 1, 2, 4, 7, 1, 2, 4, 6, 7, 8, 9, 10, 2, 1, 2, 3, 4, 5, 6, 7, 8, 9, 10, 10, 1, 3, 7, 2, 4, 6, 9, 10, 5, 1, 6, 8, 8, 9, 10, 1, 2, 3, 5, 6, 8, 6, 3, 5, 6, 1, 2, 3, 5, 6, 8, 9, 10, 8, 3, 5, 6, 7, 9, 9, 3, 8, 9, 2, 10, 6, 8, 1, 2, 3, 4, 5, 6, 7, 8, 9, 10, 1, 1, 2, 10, 7, 10, 4, 1, 2, 3, 4, 5, 6, 8, 9, 2, 3, 8, 2, 9, 9, 6, 3, 6, 7, 1, 8, 10, 1, 4, 10, 2, 7, 10, 3, 2, 3, 8, 7, 10, 7, 1, 3, 5, 9, 10, 4, 1, 5, 3, 2, 5, 7, 9, 10, 2, 8, 9, 10, 1, 5, 7, 10, 1, 1, 2, 4, 6, 7, 10, 10, 5, 1, 2, 3, 5, 6, 7, 8, 9, 10, 3, 6, 7, 10, 3, 3, 5, 7, 8, 5, 8, 5, 4, 10, 9, 3, 9], \"Freq\": [0.8237897247491199, 0.04576609581939555, 0.9546680485820976, 0.9046907718648312, 0.9368304320805516, 0.17471602437427727, 0.7338073023719646, 0.9536251946912757, 0.8912877890565318, 0.051022864648544906, 0.10204572929708981, 0.8163658343767185, 0.022032194484941117, 0.7050302235181157, 0.022032194484941117, 0.22032194484941117, 0.13762851227996573, 0.05794884727577504, 0.07967966500419067, 0.12314130046102195, 0.20282096546521264, 0.10141048273260632, 0.07967966500419067, 0.17384654182732512, 0.04346163545683128, 0.205526548051711, 0.7810008825965018, 0.9111957780591252, 0.8490960748901984, 0.9550592662461108, 0.8717879064238485, 0.8787005475797631, 0.9121647857454432, 0.8039873592371289, 0.14356917129234445, 0.9343468848924851, 0.8511766661602278, 0.05006921565648399, 0.931313997364376, 0.2335421944017158, 0.06780257256824007, 0.08286981091673787, 0.09793704926523567, 0.12807152596223126, 0.06026895339399117, 0.06026895339399117, 0.037668095871244485, 0.12053790678798235, 0.10547066843948456, 0.9206656863275472, 0.24868420019506365, 0.2919336263159443, 0.054061782651100794, 0.15137299142308222, 0.06487413918132096, 0.1297482783626419, 0.054061782651100794, 0.8312315993642894, 0.05993549394709874, 0.8390969152593823, 0.8225984520340798, 0.04569991400189332, 0.04569991400189332, 0.9036017083258061, 0.04755798464872664, 0.029147658903570448, 0.8598559376553282, 0.04372148835535567, 0.04372148835535567, 0.9350546195028194, 0.8138374237813457, 0.141536943266321, 0.9193753338459548, 0.8764422174328867, 0.9540550832554199, 0.9248694889371838, 0.9057183950643558, 0.12048806516891092, 0.8434164561823765, 0.9558554697967252, 0.90934433369708, 0.9739193166001902, 0.5072815997071711, 0.07657080750296923, 0.2679978262603923, 0.13399891313019616, 0.15127417527753248, 0.13446593358002887, 0.12326043911502647, 0.06723296679001443, 0.15127417527753248, 0.13446593358002887, 0.05602747232501203, 0.06163021955751324, 0.05042472509251083, 0.07843846125501684, 0.360765038133064, 0.5942012392779877, 0.15652673563877464, 0.7602727159597625, 0.022360962234110663, 0.022360962234110663, 0.21872342320369148, 0.08647205103401756, 0.08647205103401756, 0.203463649491806, 0.02543295618647575, 0.0712122773221321, 0.10681841598319816, 0.07629886855942726, 0.0406927298983612, 0.0915586422713127, 0.8932706955197164, 0.8858889207086491, 0.9628739487301263, 0.8831287442252709, 0.8598561939631724, 0.05732374626421149, 0.670036645008939, 0.2729778924110492, 0.02481617203736811, 0.020739190124768, 0.891785175365024, 0.041478380249536, 0.020739190124768, 0.8564828313683774, 0.22258549003886297, 0.08013077641399066, 0.09793761561709971, 0.16916497242953585, 0.11574445482020874, 0.22258549003886297, 0.08903419601554519, 0.9215406764097211, 0.9015626482469875, 0.6768885321288394, 0.27075541285153576, 0.016922213303220985, 0.016922213303220985, 0.7038522307403284, 0.05414247928771757, 0.2165699171508703, 0.8735895554450972, 0.9694995988700718, 0.9283798033276695, 0.8949781638503743, 0.8990158062747332, 0.8588691654673487, 0.9323495913051413, 0.12529827096560076, 0.7204650580522044, 0.03132456774140019, 0.03132456774140019, 0.03132456774140019, 0.06264913548280038, 0.8871277403347054, 0.9482453808165845, 0.9508503599570105, 0.016681585262403695, 0.8913383319022032, 0.9583078905762715, 0.01398161372504111, 0.01398161372504111, 0.13981613725041112, 0.041944841175123336, 0.5592645490016445, 0.02796322745008222, 0.15379775097545223, 0.06990806862520556, 0.8428142774010081, 0.815977650046184, 0.8976642156894538, 0.7004089399157113, 0.2075285747898404, 0.02594107184873005, 0.916596021746413, 0.8552723700100118, 0.9128434541332059, 0.06520310386665756, 0.9124459813979414, 0.9385019802035935, 0.9181149032515215, 0.9400179435922009, 0.8422750647489821, 0.790046863140076, 0.18373182863722698, 0.9663344945419566, 0.9044564424510237, 0.5085240657472985, 0.0591307053194533, 0.01182614106389066, 0.1537398338305786, 0.13008755170279726, 0.01182614106389066, 0.1182614106389066, 0.9426354622173334, 0.30452563605330374, 0.2088175790079797, 0.1218102544213215, 0.35673003080529864, 0.9031039414327969, 0.6621212981128214, 0.1284712966487564, 0.18776574125587472, 0.8956459928794108, 0.7848002224146065, 0.16350004633637635, 0.032700009267275267, 0.8944633705278967, 0.8363403309826427, 0.050148298463939346, 0.8525210738869688, 0.06179276399309374, 0.8239035199079165, 0.06179276399309374, 0.8330633350660407, 0.09271434468130935, 0.22663506477653395, 0.12361912624174579, 0.0669603600476123, 0.15452390780218223, 0.10301593853478816, 0.030904781560436446, 0.07726195390109111, 0.06180956312087289, 0.056658766194133486, 0.8824988890255219, 0.9141371232802703, 0.848644064765305, 0.13044317011302825, 0.6522158505651413, 0.16305396264128533, 0.9152097176191731, 0.6332804467722595, 0.15296629149088395, 0.1009577523839834, 0.11013572987343644, 0.9416881251721142, 0.8885483068108688, 0.009737482223373162, 0.04868741111686581, 0.7887360600932262, 0.009737482223373162, 0.06816237556361214, 0.029212446670119487, 0.04868741111686581, 0.8354841905118338, 0.12190432370894556, 0.08865768997014223, 0.09973990121641, 0.09973990121641, 0.044328844985071114, 0.29921970364923, 0.13298653495521334, 0.07757547872387445, 0.033246633738803336, 0.9501096261941894, 0.9678660582605028, 0.5704337831207678, 0.247187972685666, 0.1521156754988714, 0.09458029178788299, 0.11822536473485375, 0.1418704376818245, 0.07093521884091225, 0.567481750727298, 0.8860957903311817, 0.06111005450559874, 0.058564316166724036, 0.8784647425008606, 0.9098570809742701, 0.9447513919244926, 0.13447048611318857, 0.6723524305659427, 0.16136458333582626, 0.8660917076840562, 0.04581832917549802, 0.02290916458774901, 0.8705482543344624, 0.8757279516076525, 0.8484226031273112, 0.06564802928989773, 0.17506141143972725, 0.722128322188875, 0.8903833756092729, 0.040253814842473666, 0.8855839265344206, 0.8340456697336132, 0.04861291163482151, 0.9236453210616087, 0.8817097060338613, 0.06297926471670438, 0.9055289534096795, 0.8522804467076877, 0.1213047538666899, 0.8086983591112661, 0.08583442649587779, 0.15021024636778613, 0.042917213247938894, 0.7081340185909918, 0.02463252410622927, 0.8128732955055659, 0.07389757231868781, 0.04926504821245854, 0.860536143976939, 0.05061977317511406, 0.05061977317511406, 0.2216871276855815, 0.10602427845832157, 0.21204855691664315, 0.08192785153597577, 0.1156628492272599, 0.028915712306814976, 0.024096426922345815, 0.09638570768938326, 0.10602427845832157, 0.8832399035615729, 0.15998788689791726, 0.1919854642775007, 0.6239527589018773, 0.2488250611747528, 0.7215926774067832, 0.7889417500905351, 0.11834126251358028, 0.9704142621272507, 0.8308199939048502, 0.03956285685261191, 0.03956285685261191, 0.869298762502947, 0.02335960666485006, 0.23359606664850058, 0.6307093799509516, 0.07007881999455018, 0.8914968054585067, 0.0625349927504596, 0.8129549057559747, 0.8780574276188687, 0.8561067788972395, 0.21320333316866522, 0.10983202011719118, 0.019382121197151384, 0.20028191903723097, 0.012921414131434257, 0.08398919185432266, 0.2325854543658166, 0.05168565652573703, 0.03876424239430277, 0.03876424239430277, 0.07796352733408128, 0.03898176366704064, 0.7796352733408128, 0.03898176366704064, 0.9333784873034249, 0.24761937949204413, 0.6190484487301103, 0.10317474145501838, 0.8173136394217143, 0.04086568197108572, 0.04086568197108572, 0.8596517923760926, 0.8962648906842703, 0.8411025070794775, 0.04947661806349868, 0.8155592228226417, 0.10194490285283021, 0.8683459195146374, 0.315595068919552, 0.42079342522606933, 0.1202266929217341, 0.1202266929217341, 0.09337442982897586, 0.8714946784037747, 0.9107988455128643, 0.0760700291466889, 0.03803501457334445, 0.03803501457334445, 0.11410504372003334, 0.6846302623202001, 0.954838735151765, 0.019892473648995105, 0.8265330423189616, 0.13775550705316025, 0.9352351114707932, 0.06969738369590657, 0.19360384359974048, 0.10067399867186505, 0.24781291980766781, 0.1161623061598443, 0.10067399867186505, 0.10841815241585467, 0.05420907620792734, 0.03448935888921452, 0.03448935888921452, 0.8967233311195775, 0.16886253457284112, 0.4912364642119014, 0.1381602555595973, 0.0767556975331096, 0.10745797654635345, 0.8795103947663752, 0.8930933712120042, 0.037615983940739166, 0.9027836145777399, 0.9212360926023837, 0.9165455221200447, 0.3298704798847741, 0.5997645088814074, 0.8773898941462058, 0.05322936304290934, 0.8516698086865494, 0.8870615193077674, 0.12249061385184382, 0.3919699643259002, 0.1347396752370282, 0.3062265346296095, 0.03674718415555314, 0.86956005346883, 0.057970670231255336, 0.12836300966138856, 0.1497568446049533, 0.620421213363378, 0.06418150483069428, 0.8452926491818884, 0.8804712464859198, 0.046340591920311563, 0.23793172741195656, 0.014870732963247285, 0.02974146592649457, 0.23793172741195656, 0.05948293185298914, 0.05948293185298914, 0.014870732963247285, 0.02974146592649457, 0.05948293185298914, 0.26767319333845113, 0.8872304222233276, 0.09362342169186416, 0.12963243003488883, 0.06481621501744442, 0.38169548843606155, 0.18724684338372832, 0.021605405005814805, 0.007201801668604935, 0.04321081001162961, 0.07921981835465429, 0.13043092853113078, 0.5776226834950078, 0.13043092853113078, 0.13043092853113078, 0.031219901821148092, 0.07804975455287023, 0.15609950910574047, 0.07804975455287023, 0.2653691654797588, 0.39024877276435116, 0.7798943719701024, 0.041047072208952755, 0.041047072208952755, 0.12314121662685827, 0.6085919822008662, 0.09682145171377417, 0.20747453938665894, 0.08298981575466358, 0.1938095268196472, 0.14212698633440796, 0.6524920736261456, 0.7367967549394505, 0.03349076158815684, 0.1674538079407842, 0.6799062877163435, 0.07770357573901068, 0.17483304541277406, 0.01942589393475267, 0.01942589393475267, 0.8773195379895435, 0.03929746139751443, 0.11227846113575551, 0.6006897670762921, 0.022455692227151103, 0.033683538340726654, 0.17964553781720882, 0.011227846113575551, 0.938049575890893, 0.8911365914514454, 0.48550091656874067, 0.17500614434454606, 0.333076210204136, 0.12479290089236866, 0.1941222902770179, 0.4021104584309657, 0.1941222902770179, 0.05546351150771941, 0.908506467643631, 0.08050057308234705, 0.6981729862148792, 0.2513422750373565, 0.7931162774707897, 0.15350637628466898, 0.02558439604744483, 0.9142261670472142, 0.021261073652260796, 0.021261073652260796, 0.9379499600174257, 0.8687440978441996, 0.07897673616765451, 0.8442655750774894, 0.08040624524547518, 0.8371854743058682, 0.876603384182858, 0.8796404073154509, 0.8931228984102868, 0.8847280130480945, 0.05204282429694673, 0.8248964016214769, 0.06778439791924179, 0.11297399653206966, 0.11297399653206966, 0.06778439791924179, 0.04518959861282786, 0.21088479352653003, 0.22594799306413932, 0.10544239676326501, 0.04518959861282786, 0.8925477387662522, 0.01815631402596842, 0.1634068262337158, 0.6536273049348632, 0.01815631402596842, 0.07262525610387369, 0.054468942077905265, 0.01815631402596842, 0.9523516587736638, 0.9064241467475078, 0.8854022940874113, 0.04520556945951198, 0.8589058197307275, 0.04520556945951198, 0.867462555064149, 0.153382517118515, 0.07121331151931054, 0.0766912585592575, 0.30676503423703, 0.09860304671904535, 0.07121331151931054, 0.043823576319575716, 0.17529430527830286, 0.18396510489433046, 0.7358604195773218, 0.039975441825824375, 0.8794597201681363, 0.9109661679018679, 0.8609777568196612, 0.8810619513131852, 0.20602213051412127, 0.08829519879176626, 0.5003394598200088, 0.07357933232647187, 0.117726931722355, 0.857207421739089, 0.06857659373912713, 0.2666220632499227, 0.693217364449799, 0.3233117835240563, 0.3233117835240563, 0.06116709418022687, 0.05242893786876589, 0.06990525049168786, 0.10485787573753177, 0.06116709418022687, 0.07135115392186492, 0.12486451936326359, 0.5172958659335206, 0.08918894240233113, 0.12486451936326359, 0.07135115392186492, 0.8319477839014244, 0.019808280569081533, 0.07923312227632613, 0.0594248417072446, 0.04148623305349446, 0.9126971271768782, 0.11863600964210795, 0.08474000688721996, 0.7796080633624236, 0.25821303563857545, 0.7276912822541671, 0.9170663152128022, 0.9170154310699044, 0.12745667120243043, 0.13085551576782858, 0.12575724891973136, 0.07647400272145825, 0.11386129294083785, 0.10706360381004157, 0.09346822554844898, 0.0985664923965462, 0.05778035761176847, 0.06967631359066197, 0.9503024404197811, 0.8921497478387167, 0.0879428361917436, 0.146571393652906, 0.0586285574611624, 0.6742284108033676, 0.8906041295688166, 0.8428561527360813, 0.08027201454629346, 0.8930899328843431, 0.12031213324640806, 0.09357610363609517, 0.07352408142836049, 0.08020808883093872, 0.24062426649281612, 0.08020808883093872, 0.1804681998696121, 0.08689209623351694, 0.04010404441546936, 0.8652631299092157, 0.8197627089671337, 0.9119330675768834, 0.8429513995062975, 0.11298997809469159, 0.8554955484312363, 0.413278489739985, 0.09788174756999644, 0.467657238389983, 0.1136964334679739, 0.8242991426428107, 0.8326043690672196, 0.8396306629795767, 0.06458697407535205, 0.023864520972732218, 0.047729041945464436, 0.16705164680912551, 0.5966130243183054, 0.047729041945464436, 0.09545808389092887, 0.04451374300598227, 0.36723837979935375, 0.06677061450897341, 0.15579810052093795, 0.033385307254486705, 0.033385307254486705, 0.05564217875747784, 0.13354122901794682, 0.10015592176346011, 0.9195462754702006, 0.16225699415874226, 0.5624909130836397, 0.0216342658878323, 0.01081713294391615, 0.24879405771007143, 0.9447854458400651, 0.13417476316711632, 0.6037864342520235, 0.022362460527852724, 0.1788996842228218, 0.04472492105570545, 0.08298101124185583, 0.8713006180394862, 0.8967478061090877, 0.2090827566695691, 0.6504796874164372, 0.0464628348154598, 0.0464628348154598, 0.0232314174077299, 0.0464628348154598, 0.9629533126159378, 0.05772540921093891, 0.8658811381640837, 0.9021204124110395, 0.9096130834293482, 0.7606715545930295, 0.22446045873236936, 0.47347472115174266, 0.12400528411117069, 0.011273207646470064, 0.09018566117176051, 0.12400528411117069, 0.03381962293941019, 0.05636603823235031, 0.05636603823235031, 0.03381962293941019, 0.24038658258287907, 0.2938058231568522, 0.12464489467260396, 0.23148337582055023, 0.06232244733630198, 0.03561282704931542, 0.015989335443102933, 0.3197867088620587, 0.6395734177241174, 0.880063987548571, 0.7489599281441323, 0.22028233180709775, 0.2863640595415305, 0.07954557209486958, 0.12727291535179133, 0.015909114418973917, 0.4295460893122957, 0.03181822883794783, 0.015909114418973917, 0.8702372963732502, 0.8843236305213462, 0.04211064907244506, 0.888751392821226, 0.12449741817103899, 0.12838796248888396, 0.07002979772120943, 0.11282578521750408, 0.15173122839595377, 0.13227850680672892, 0.08948251931043427, 0.035014898860604715, 0.0855919749925893, 0.07002979772120943, 0.8783903483492272, 0.8345694802911942, 0.6768885449692484, 0.27075541798769936, 0.01692221362423121, 0.01692221362423121, 0.09813015688806136, 0.08177513074005113, 0.10358183227073144, 0.08722680612272121, 0.05996842920937083, 0.010903350765340152, 0.20716366454146287, 0.1799052876281125, 0.06542010459204091, 0.10903350765340152, 0.8718121594305229, 0.9527161007297047, 0.9013714194716215, 0.8388647892916663, 0.899309894472883, 0.9065842325041331, 0.9529238694126646, 0.873550361912238, 0.05138531540660224, 0.9567977786059529, 0.06420746702541087, 0.8346970713303414, 0.7143338005906352, 0.13737188472896833, 0.10989750778317466, 0.20801216622511307, 0.14587866202800137, 0.1026553547604454, 0.08644661453511192, 0.059432047492889446, 0.11075972487311214, 0.07293933101400069, 0.08374515783088968, 0.07023787430977843, 0.059432047492889446, 0.17921274357418462, 0.1439577776251647, 0.0910753287016348, 0.0940132425307198, 0.07638575955620984, 0.12926820847973972, 0.11164072550522976, 0.06757201806895485, 0.041130793607189915, 0.07050993189803985, 0.14968836903434365, 0.041580102509539904, 0.15800438953625165, 0.08316020501907981, 0.1330563280305277, 0.2245325535515155, 0.06652816401526385, 0.041580102509539904, 0.09147622552098779, 0.5808602250219305, 0.23597446641515926, 0.16336693828741794, 0.815072967934566, 0.9266456798741574, 0.9377119453514683, 0.026047554037540784, 0.8361116800735096, 0.8444484942404923, 0.7951387619700212, 0.8934704787876921, 0.8912519759907557, 0.019705243660093085, 0.05911573098027926, 0.19705243660093086, 0.5714520661426995, 0.09852621830046543, 0.019705243660093085, 0.41484254452063, 0.11852644129160858, 0.24363768487719542, 0.21729847570128238, 0.053560705900828995, 0.8569712944132639, 0.035878918276141765, 0.0956771154030447, 0.1853744110933991, 0.11361657454111558, 0.06577801683959324, 0.11361657454111558, 0.11361657454111558, 0.08969729569035441, 0.06577801683959324, 0.11361657454111558, 0.9202237264322725, 0.10345531386741157, 0.09947626333404959, 0.13528771813430743, 0.09947626333404959, 0.05570670746706777, 0.17507822346792726, 0.05570670746706777, 0.0716229096005157, 0.1432458192010314, 0.05968575800042975, 0.8963130628493912, 0.05753467654544897, 0.8630201481817346, 0.8770243052401769, 0.8628805816981128, 0.05393003635613205, 0.25895192141695045, 0.14566045579703463, 0.04855348526567821, 0.032368990177118806, 0.06473798035423761, 0.04855348526567821, 0.37224338703686627, 0.016184495088559403, 0.861202304451353, 0.20119668503372537, 0.7473019729824085, 0.8391622237510141, 0.09743993595355142, 0.8282394556051872, 0.024359983988387856, 0.04438112272106208, 0.8876224544212415, 0.9625835182225791, 0.027591206248953747, 0.9381010124644275, 0.8544741302452439, 0.933440239517048, 0.050877322517894, 0.864914482804198, 0.023045419107735856, 0.023045419107735856, 0.161317933754151, 0.7604988305552832, 0.8926471267282511, 0.8734182976370817, 0.691096818307585, 0.2591613068653444, 0.03475014807369653, 0.17375074036848265, 0.7645032576213237, 0.09016428055823958, 0.856560665303276, 0.8576445825038148, 0.4969991314644758, 0.3515359710358487, 0.1090973703214703, 0.02424386007143784, 0.01212193003571892, 0.9156776850181307, 0.11060937737550681, 0.8480052265455522, 0.0701223125173807, 0.1402446250347614, 0.008765289064672587, 0.149009914099434, 0.6311008126564264, 0.026906668071450063, 0.8341067102149519, 0.10762667228580025, 0.8581344681185278, 0.03331249341008262, 0.6995623616117349, 0.19987496046049572, 0.904132874527355, 0.9460575497147331, 0.9085046325688041, 0.023471530507338644, 0.727617445727498, 0.07041459152201593, 0.1643007135513705, 0.023846647731806402, 0.17487541669991363, 0.07948882577268801, 0.11128435608176322, 0.007948882577268801, 0.12718212123630082, 0.31795530309075204, 0.15897765154537602, 0.06104186217497592, 0.854586070449663, 0.9182265841718257, 0.8976081566906067, 0.739929433718453, 0.17617367469486978, 0.8254316693018564, 0.8805988842810626, 0.6574155445591188, 0.1643538861397797, 0.1643538861397797, 0.5589434104793475, 0.40845864611952315, 0.9610517000297508, 0.014950238468754014, 0.014950238468754014, 0.16445262315629416, 0.11960190775003211, 0.02990047693750803, 0.13455214621878614, 0.5083081079376365, 0.012333682888446617, 0.12333682888446618, 0.11100314599601956, 0.4316789010956316, 0.07400209733067971, 0.04933473155378647, 0.12333682888446618, 0.08633578021912632, 0.8817528418151672, 0.12637085024663078, 0.6778072876864742, 0.09190607290664057, 0.011488259113330072, 0.09190607290664057, 0.18645112727547064, 0.2759476683676965, 0.08203849600120708, 0.33561202909584714, 0.01491609018203765, 0.007458045091018825, 0.0894965410922259, 0.03664699116314802, 0.03664699116314802, 0.8795277879155524, 0.8616043337329995, 0.1748908196427485, 0.7695196064280934, 0.9334182371462748, 0.057991171174171824, 0.8118763964384055, 0.057991171174171824, 0.8713278925245912, 0.8846888830480877, 0.9352331609843029, 0.2825928520611629, 0.09419761735372097, 0.06279841156914731, 0.13606322506648585, 0.41865607712764874, 0.8613380374772361, 0.07177816978976968, 0.06093546817460929, 0.01218709363492186, 0.4996708390317962, 0.04874837453968744, 0.04874837453968744, 0.2924902472381246, 0.036561280904765577, 0.4423160516098598, 0.5160353935448365, 0.37406428078438586, 0.11689508774512057, 0.4909593685295064, 0.1184774398048771, 0.7582556147512134, 0.09478195184390167, 0.8845283544678344, 0.9519061444023774, 0.07949548086138382, 0.3268147546523557, 0.06182981844774297, 0.16782379292958807, 0.07949548086138382, 0.08832831206820424, 0.008832831206820425, 0.07949548086138382, 0.08832831206820424, 0.8897281363191255, 0.8308463709629963, 0.057299749721585955, 0.014324937430396489, 0.04297481229118946, 0.014324937430396489, 0.014324937430396489, 0.20152629391135793, 0.040305258782271584, 0.685189399298617, 0.06459632200146023, 0.839752186018983, 0.09238705710110069, 0.15634732740186272, 0.15634732740186272, 0.23452099110279406, 0.05685357360067735, 0.10660045050127004, 0.04974687690059268, 0.028426786800338676, 0.05685357360067735, 0.06396027030076203, 0.14904946634526473, 0.4152092276760946, 0.031939171359699585, 0.24486698042436347, 0.14904946634526473, 0.43935233332121276, 0.4745005199869098, 0.052722279998545535, 0.8721195366668285, 0.08848459894172286, 0.04163981126669311, 0.16655924506677244, 0.17696919788344573, 0.09889455175839613, 0.07807464612504958, 0.10409952816673278, 0.07286966971671294, 0.062459716900039666, 0.10930450457506942, 0.8900639077336246, 0.8700275479594655, 0.9231040962051092, 0.022249741905764144, 0.13349845143458486, 0.43386996716240084, 0.10012383857593865, 0.2113725481047594, 0.08899896762305658, 0.9246904633846026, 0.0771334745095112, 0.0771334745095112, 0.771334745095112, 0.9234593188949541, 0.8745424178607548, 0.9218532052866176, 0.0498518226390805, 0.897332807503449, 0.895464947330781, 0.020090028128447318, 0.28126039379826245, 0.18081025315602586, 0.06027008438534196, 0.441980618825841, 0.1271084020056493, 0.18062772916592265, 0.40139495370205036, 0.14048823379571762, 0.04682941126523921, 0.09365882253047841, 0.14377631439846625, 0.26141148072448406, 0.575105257593865, 0.9142049630144378, 0.935520056374566, 0.16475994966870353, 0.06590397986748141, 0.08787197315664187, 0.6810077919639745, 0.9341495010484114, 0.15280096447667374, 0.21713821267737848, 0.14475880845158565, 0.4744872054801974, 0.1526715711149542, 0.08327540242633866, 0.6106862844598168, 0.01387923373772311, 0.12491310363950799, 0.09537331186614272, 0.04768665593307136, 0.8106731508622131, 0.18236162884104573, 0.03647232576820915, 0.05470848865231372, 0.018236162884104574, 0.4923763978708235, 0.10941697730462745, 0.018236162884104574, 0.09118081442052287, 0.0588423650744895, 0.014710591268622375, 0.14710591268622375, 0.02942118253724475, 0.706108380893874, 0.04413177380586712, 0.014710591268622375, 0.014710591268622375, 0.9718751347551687, 0.9045263762597049, 0.08222967056906408, 0.907283999550793, 0.9615215195419681, 0.21784808569183026, 0.5697565318094022, 0.10054527031930627, 0.050272635159653134, 0.03351509010643543, 0.9348757872161184, 0.8551345919449087, 0.9716384098907179, 0.042402604056121805, 0.16961041622448722, 0.657240362869888, 0.1060065101403045, 0.0637125237486684, 0.0318562618743342, 0.8601190706070234, 0.0318562618743342, 0.938633455002991, 0.9191477386593012, 0.06482902851366061, 0.8427773706775878, 0.9065984124384968, 0.11719954209175724, 0.84969668016524, 0.5868536623407676, 0.01586090979299372, 0.12688727834394975, 0.14274818813694348, 0.03172181958598744, 0.0793045489649686, 0.12711787275677075, 0.165253234583802, 0.17796502185947907, 0.165253234583802, 0.09533840456757807, 0.10169429820541662, 0.03813536182703123, 0.05084714910270831, 0.07627072365406246, 0.12284444976289162, 0.7370666985773497, 0.09213333732216872, 0.8106414261475338, 0.8980873220413047, 0.10184728466192397, 0.11639689675648454, 0.05819844837824227, 0.7129309926334678, 0.030782696298853707, 0.04617404444828056, 0.5848712296782205, 0.10773943704598797, 0.09234808889656113, 0.04617404444828056, 0.07695674074713427, 0.030782696298853707, 0.9579821251951142, 0.014807441633979023, 0.09871627755986015, 0.08884464980387413, 0.11352371919383918, 0.30108464655757344, 0.09378046368186714, 0.029614883267958046, 0.0641655804139091, 0.07403720816989512, 0.11845953307183218, 0.9469043893507885, 0.0981153814183547, 0.06541025427890314, 0.7849230513468376, 0.1293505639895595, 0.21558427331593247, 0.12072719305692219, 0.4484152884971396, 0.06898696746109839, 0.8558474079660757, 0.11188792308916964, 0.15983989012738523, 0.7032955165604949, 0.8731069306502576, 0.9461385030642605, 0.8575899787328518, 0.10659924042438237, 0.6129456324401986, 0.06218289024755638, 0.08883270035365198, 0.008883270035365197, 0.10659924042438237, 0.8498535956906159, 0.019791438930977213, 0.7520746793771341, 0.21770582824074933, 0.01765053481262647, 0.07060213925050587, 0.08825267406313234, 0.44126337031566165, 0.07060213925050587, 0.0529516044378794, 0.01765053481262647, 0.22945695256414408, 0.8300067830048129, 0.1502939953588498, 0.09017639721530989, 0.04508819860765494, 0.6612935795789392, 0.030058799071769962, 0.9129463220993245, 0.1580381500958237, 0.05926430628593389, 0.7506812129551627, 0.9647697020075564, 0.9024185669628536, 0.9333661470565994, 0.9231503072735631, 0.06253822323611713, 0.20151205264971073, 0.1111790635308749, 0.22930681853242946, 0.0347434573533984, 0.048640840294757764, 0.08338429764815616, 0.04169214882407808, 0.0347434573533984, 0.16676859529631233, 0.8835864820468383, 0.8343355871005879, 0.06095960727539567, 0.8534345018555394, 0.8768984814257407, 0.06263560581612433, 0.8768031860647905, 0.24291977435638706, 0.14722410567053762, 0.09569566868584944, 0.14722410567053762, 0.07361205283526881, 0.09569566868584944, 0.11041807925290321, 0.07361205283526881, 0.8585477103924577, 0.23817328374184396, 0.7303980701416548, 0.9151650859547643, 0.04357928980736973, 0.9325494000736884, 0.8651239428443414, 0.054984487685380404, 0.8797518029660865, 0.9716978020677628, 0.8802395082686322, 0.05177879460403719, 0.05177879460403719, 0.31883881577785306, 0.6536195723445988, 0.9238881118513926, 0.19418003827812683, 0.7767201531125073, 0.017652730752556984, 0.898606989532936, 0.6265380551725918, 0.24365368812267457, 0.10442300919543196, 0.2817646638777457, 0.6574508823814066, 0.8873456462806483, 0.7600844045283134, 0.19002110113207835, 0.8179267147439798, 0.045440373041332215, 0.09088074608266443, 0.8647970607738862, 0.9070375402838585, 0.8403181423437772, 0.866279471576683, 0.02723788067671246, 0.05447576135342492, 0.02723788067671246, 0.8171364203013738, 0.05447576135342492, 0.13335666067018845, 0.06667833033509422, 0.20003499100528266, 0.5667658078483009, 0.6187891974361214, 0.20626306581204046, 0.15125958159549632, 0.01375087105413603, 0.8522764486513759, 0.2503364360275766, 0.06105766732379917, 0.3968748376046946, 0.10990380118283852, 0.09158650098569876, 0.08548073425331884, 0.8704872898080163, 0.8913604194464544, 0.2186467250009116, 0.11369629700047403, 0.21427379050089337, 0.11806923150049226, 0.1093233625004558, 0.05684814850023701, 0.06122108300025525, 0.04810227950020055, 0.05684814850023701, 0.021391960648627834, 0.17113568518902267, 0.256703527783534, 0.513407055567068, 0.902318175276517, 0.02540440328251391, 0.07621320984754174, 0.6859188886278756, 0.20323522626011128, 0.9610794262494264, 0.9426848884118524, 0.9005650771569383, 0.06595328731987488, 0.8573927351583733, 0.9084150839292465, 0.8771160133245215, 0.9429671428571733], \"Term\": [\"abstraction\", \"abstraction\", \"accelerated\", \"accelerating\", \"acceleration\", \"accuracy\", \"accuracy\", \"accurate\", \"activation\", \"actor\", \"actor\", \"actor\", \"adaptation\", \"adaptation\", \"adaptation\", \"adaptation\", \"adaptive\", \"adaptive\", \"adaptive\", \"adaptive\", \"adaptive\", \"adaptive\", \"adaptive\", \"adaptive\", \"adaptive\", \"adversarial\", \"adversarial\", \"adversarially\", \"adversaries\", \"agent\", \"agents\", \"aggregated\", \"aggregation\", \"agnostic\", \"agnostic\", \"algorithmic\", \"allocation\", \"allocation\", \"alternating\", \"analysis\", \"analysis\", \"analysis\", \"analysis\", \"analysis\", \"analysis\", \"analysis\", \"analysis\", \"analysis\", \"analysis\", \"anomaly\", \"approximation\", \"approximation\", \"approximation\", \"approximation\", \"approximation\", \"approximation\", \"approximation\", \"assessing\", \"assignment\", \"assignment\", \"asymptotic\", \"asymptotic\", \"asymptotic\", \"asynchronous\", \"asynchronous\", \"attention\", \"attention\", \"attention\", \"attention\", \"augmentation\", \"augmented\", \"augmented\", \"auto\", \"autoencoder\", \"autoencoders\", \"autoregressive\", \"average\", \"averaging\", \"averaging\", \"aware\", \"balanced\", \"bandit\", \"bandits\", \"bandits\", \"bandits\", \"bandits\", \"based\", \"based\", \"based\", \"based\", \"based\", \"based\", \"based\", \"based\", \"based\", \"based\", \"batch\", \"batch\", \"bayes\", \"bayes\", \"bayes\", \"bayes\", \"bayesian\", \"bayesian\", \"bayesian\", \"bayesian\", \"bayesian\", \"bayesian\", \"bayesian\", \"bayesian\", \"bayesian\", \"bayesian\", \"benchmark\", \"best\", \"beyond\", \"biases\", \"bipartite\", \"bipartite\", \"block\", \"block\", \"block\", \"boosting\", \"boosting\", \"boosting\", \"boosting\", \"bottleneck\", \"bounds\", \"bounds\", \"bounds\", \"bounds\", \"bounds\", \"bounds\", \"bounds\", \"box\", \"calibration\", \"carlo\", \"carlo\", \"carlo\", \"carlo\", \"case\", \"case\", \"case\", \"category\", \"causal\", \"chain\", \"chains\", \"clusters\", \"cnn\", \"co\", \"collaborative\", \"collaborative\", \"collaborative\", \"collaborative\", \"collaborative\", \"collaborative\", \"column\", \"combinatorial\", \"communication\", \"communication\", \"compact\", \"completion\", \"complexity\", \"complexity\", \"complexity\", \"complexity\", \"complexity\", \"complexity\", \"complexity\", \"complexity\", \"components\", \"composition\", \"compositional\", \"compression\", \"compression\", \"compression\", \"concave\", \"concentration\", \"conditional\", \"conditional\", \"conditioned\", \"confidence\", \"consistency\", \"consistent\", \"constraint\", \"constraints\", \"constraints\", \"contextual\", \"controllable\", \"convergence\", \"convergence\", \"convergence\", \"convergence\", \"convergence\", \"convergence\", \"convergence\", \"convergent\", \"convex\", \"convex\", \"convex\", \"convex\", \"convolution\", \"convolutional\", \"convolutional\", \"convolutional\", \"cooperative\", \"coordinate\", \"coordinate\", \"coordinate\", \"copula\", \"counterfactual\", \"critic\", \"critic\", \"cross\", \"cross\", \"cross\", \"curvature\", \"data\", \"data\", \"data\", \"data\", \"data\", \"data\", \"data\", \"data\", \"data\", \"data\", \"datasets\", \"decentralized\", \"decisions\", \"decoding\", \"decoding\", \"decoding\", \"deconvolution\", \"deep\", \"deep\", \"deep\", \"deep\", \"denoising\", \"depth\", \"descent\", \"descent\", \"descent\", \"descent\", \"descent\", \"descent\", \"descent\", \"detecting\", \"detection\", \"detection\", \"detection\", \"detection\", \"detection\", \"detection\", \"detection\", \"detection\", \"detection\", \"determinantal\", \"differentiable\", \"differential\", \"differential\", \"differential\", \"differentially\", \"differentially\", \"differentially\", \"differentially\", \"differentially\", \"dimensionality\", \"dimensionality\", \"dimensions\", \"dimensions\", \"directed\", \"dirichlet\", \"discovery\", \"discovery\", \"discovery\", \"disentanglement\", \"distance\", \"distance\", \"distance\", \"distances\", \"distortion\", \"distribution\", \"distribution\", \"distribution\", \"distributional\", \"diverse\", \"diverse\", \"diversity\", \"domain\", \"domain\", \"domains\", \"domains\", \"double\", \"doubly\", \"driven\", \"driven\", \"dual\", \"dual\", \"dual\", \"dual\", \"dynamical\", \"dynamical\", \"dynamical\", \"dynamical\", \"effect\", \"effect\", \"effect\", \"efficient\", \"efficient\", \"efficient\", \"efficient\", \"efficient\", \"efficient\", \"efficient\", \"efficient\", \"efficient\", \"efficiently\", \"embedding\", \"embedding\", \"embedding\", \"empirical\", \"empirical\", \"encoding\", \"encoding\", \"end\", \"ensemble\", \"ensemble\", \"ensemble\", \"ensembles\", \"entropy\", \"entropy\", \"entropy\", \"entropy\", \"equations\", \"equilibrium\", \"equilibrium\", \"equivalence\", \"equivariant\", \"estimation\", \"estimation\", \"estimation\", \"estimation\", \"estimation\", \"estimation\", \"estimation\", \"estimation\", \"estimation\", \"estimation\", \"estimators\", \"estimators\", \"estimators\", \"estimators\", \"evaluating\", \"evaluation\", \"evaluation\", \"evaluation\", \"examples\", \"examples\", \"examples\", \"expected\", \"experience\", \"experimental\", \"experimental\", \"explanations\", \"explanations\", \"explicit\", \"exploration\", \"exploration\", \"exploration\", \"exploration\", \"exponential\", \"exponential\", \"extreme\", \"factor\", \"factor\", \"factor\", \"factor\", \"factor\", \"factorization\", \"factorization\", \"fairness\", \"fairness\", \"family\", \"fast\", \"fast\", \"fast\", \"fast\", \"fast\", \"fast\", \"fast\", \"fast\", \"faster\", \"faster\", \"faster\", \"features\", \"features\", \"features\", \"features\", \"features\", \"fidelity\", \"fine\", \"first\", \"first\", \"fixed\", \"flexible\", \"flow\", \"flow\", \"fmri\", \"forests\", \"forests\", \"fourier\", \"framework\", \"framework\", \"framework\", \"framework\", \"framework\", \"frank\", \"frank\", \"free\", \"free\", \"free\", \"free\", \"frequency\", \"game\", \"game\", \"games\", \"games\", \"games\", \"games\", \"games\", \"games\", \"games\", \"games\", \"games\", \"games\", \"gap\", \"gaussian\", \"gaussian\", \"gaussian\", \"gaussian\", \"gaussian\", \"gaussian\", \"gaussian\", \"gaussian\", \"gaussian\", \"general\", \"general\", \"general\", \"general\", \"generalized\", \"generalized\", \"generalized\", \"generalized\", \"generalized\", \"generalized\", \"generating\", \"generating\", \"generating\", \"generating\", \"generation\", \"generation\", \"generation\", \"generation\", \"generative\", \"generative\", \"generative\", \"geometry\", \"geometry\", \"geometry\", \"global\", \"global\", \"global\", \"global\", \"global\", \"globally\", \"gradient\", \"gradient\", \"gradient\", \"gradient\", \"gradient\", \"gradient\", \"gradient\", \"gradients\", \"grained\", \"graph\", \"graph\", \"graph\", \"graphical\", \"graphical\", \"graphical\", \"graphical\", \"graphical\", \"graphs\", \"graphs\", \"greedy\", \"greedy\", \"group\", \"group\", \"group\", \"guarantees\", \"guarantees\", \"guarantees\", \"guided\", \"hamiltonian\", \"hamiltonian\", \"hard\", \"hard\", \"hessian\", \"heterogeneous\", \"hilbert\", \"hyperbolic\", \"hyperparameter\", \"hyperparameter\", \"identifying\", \"image\", \"image\", \"image\", \"image\", \"image\", \"image\", \"image\", \"image\", \"image\", \"imaging\", \"implicit\", \"implicit\", \"implicit\", \"implicit\", \"implicit\", \"implicit\", \"implicit\", \"importance\", \"improves\", \"incomplete\", \"independence\", \"independence\", \"independence\", \"induced\", \"inference\", \"inference\", \"inference\", \"inference\", \"inference\", \"inference\", \"inference\", \"inference\", \"interaction\", \"interaction\", \"interactive\", \"interactive\", \"intrinsic\", \"intrinsically\", \"invariance\", \"inverse\", \"inverse\", \"inverse\", \"inverse\", \"inverse\", \"iterative\", \"iterative\", \"joint\", \"joint\", \"kernel\", \"kernel\", \"kernel\", \"kernel\", \"kernel\", \"kernel\", \"kernel\", \"kernels\", \"kernels\", \"kernels\", \"kernels\", \"kernels\", \"kernels\", \"knowledge\", \"knowledge\", \"knowledge\", \"knowledge\", \"labels\", \"labels\", \"language\", \"language\", \"language\", \"latent\", \"latent\", \"layers\", \"learners\", \"learning\", \"learning\", \"learning\", \"learning\", \"learning\", \"learning\", \"learning\", \"learning\", \"learning\", \"learning\", \"level\", \"lifelong\", \"likelihood\", \"likelihood\", \"likelihood\", \"likelihood\", \"limitations\", \"limited\", \"limited\", \"limits\", \"linear\", \"linear\", \"linear\", \"linear\", \"linear\", \"linear\", \"linear\", \"linear\", \"linear\", \"link\", \"localized\", \"locally\", \"logarithmic\", \"loss\", \"loss\", \"low\", \"low\", \"low\", \"manifold\", \"manifold\", \"manipulation\", \"many\", \"many\", \"margin\", \"margin\", \"margin\", \"margin\", \"margin\", \"margin\", \"markov\", \"markov\", \"markov\", \"markov\", \"markov\", \"markov\", \"markov\", \"markov\", \"markov\", \"matrices\", \"matrix\", \"matrix\", \"matrix\", \"matrix\", \"matrix\", \"max\", \"maximum\", \"maximum\", \"maximum\", \"maximum\", \"maximum\", \"mcmc\", \"mcmc\", \"mdps\", \"mean\", \"mean\", \"mean\", \"mean\", \"mean\", \"mean\", \"means\", \"measuring\", \"measuring\", \"mechanism\", \"meets\", \"meta\", \"meta\", \"method\", \"method\", \"method\", \"method\", \"method\", \"method\", \"method\", \"method\", \"method\", \"methods\", \"methods\", \"methods\", \"methods\", \"methods\", \"methods\", \"metric\", \"metric\", \"metric\", \"metrics\", \"minimax\", \"minimax\", \"minimization\", \"minimization\", \"minimization\", \"minimization\", \"minimization\", \"minimization\", \"minimization\", \"mirror\", \"missing\", \"missing\", \"modal\", \"models\", \"models\", \"models\", \"models\", \"models\", \"models\", \"models\", \"models\", \"models\", \"models\", \"molecular\", \"monotonic\", \"monte\", \"monte\", \"monte\", \"monte\", \"multi\", \"multi\", \"multi\", \"multi\", \"multi\", \"multi\", \"multi\", \"multi\", \"multi\", \"multi\", \"multiagent\", \"multiclass\", \"multimodal\", \"multinomial\", \"multiplicative\", \"multitask\", \"multivariate\", \"mutual\", \"mutual\", \"near\", \"nearly\", \"nearly\", \"neighbor\", \"neighbor\", \"neighbor\", \"networks\", \"networks\", \"networks\", \"networks\", \"networks\", \"networks\", \"networks\", \"networks\", \"networks\", \"networks\", \"neural\", \"neural\", \"neural\", \"neural\", \"neural\", \"neural\", \"neural\", \"neural\", \"neural\", \"neural\", \"non\", \"non\", \"non\", \"non\", \"non\", \"non\", \"non\", \"non\", \"non\", \"nonparametric\", \"nonparametric\", \"nonparametric\", \"nonsmooth\", \"norm\", \"normalization\", \"normalization\", \"normalized\", \"normalizing\", \"observation\", \"observations\", \"offline\", \"one\", \"one\", \"one\", \"one\", \"one\", \"one\", \"online\", \"online\", \"online\", \"online\", \"operators\", \"operators\", \"optimal\", \"optimal\", \"optimal\", \"optimal\", \"optimal\", \"optimal\", \"optimal\", \"optimal\", \"optimal\", \"optimal\", \"optimistic\", \"optimization\", \"optimization\", \"optimization\", \"optimization\", \"optimization\", \"optimization\", \"optimization\", \"optimization\", \"optimization\", \"optimization\", \"optimize\", \"optimizing\", \"optimizing\", \"options\", \"oracle\", \"oracle\", \"order\", \"order\", \"order\", \"order\", \"order\", \"order\", \"order\", \"order\", \"orthogonal\", \"output\", \"output\", \"overlapping\", \"pac\", \"pac\", \"pac\", \"parameterized\", \"parameterized\", \"parametric\", \"partial\", \"partial\", \"partition\", \"partitioning\", \"path\", \"path\", \"pca\", \"pca\", \"pca\", \"pca\", \"permutation\", \"person\", \"perspective\", \"perspective\", \"perturbations\", \"perturbations\", \"perturbations\", \"physics\", \"physics\", \"poincare\", \"point\", \"point\", \"point\", \"point\", \"point\", \"poisson\", \"policies\", \"policies\", \"policy\", \"policy\", \"policy\", \"policy\", \"policy\", \"polynomial\", \"polynomial\", \"polynomial\", \"pooling\", \"population\", \"population\", \"population\", \"populations\", \"positive\", \"posterior\", \"practical\", \"practical\", \"practical\", \"practical\", \"prediction\", \"prediction\", \"prediction\", \"prediction\", \"prediction\", \"prediction\", \"prediction\", \"prediction\", \"predictions\", \"predictions\", \"preference\", \"preferences\", \"preserving\", \"preserving\", \"price\", \"pricing\", \"prior\", \"prior\", \"prior\", \"priors\", \"priors\", \"privacy\", \"private\", \"private\", \"private\", \"private\", \"private\", \"private\", \"private\", \"probabilistic\", \"probabilistic\", \"probabilistic\", \"probabilistic\", \"probabilistic\", \"probabilistic\", \"probabilistic\", \"probabilistic\", \"probabilities\", \"process\", \"process\", \"process\", \"process\", \"process\", \"processes\", \"processes\", \"processes\", \"processes\", \"processes\", \"processes\", \"processes\", \"product\", \"product\", \"product\", \"property\", \"provable\", \"provable\", \"provably\", \"quadrature\", \"quadrature\", \"quadrature\", \"quality\", \"quantile\", \"quantum\", \"random\", \"random\", \"random\", \"random\", \"random\", \"randomized\", \"randomized\", \"rank\", \"rank\", \"rank\", \"rank\", \"rank\", \"rank\", \"rank\", \"ranking\", \"ranking\", \"rates\", \"rates\", \"rates\", \"reasoning\", \"reasoning\", \"reasoning\", \"recall\", \"recovery\", \"recurrent\", \"recurrent\", \"recurrent\", \"recurrent\", \"recurrent\", \"recurrent\", \"recurrent\", \"recurrent\", \"recurrent\", \"reduced\", \"reduction\", \"reduction\", \"reduction\", \"reduction\", \"reduction\", \"reduction\", \"region\", \"region\", \"region\", \"regions\", \"regions\", \"regression\", \"regression\", \"regression\", \"regression\", \"regression\", \"regression\", \"regression\", \"regression\", \"regression\", \"regression\", \"regularization\", \"regularization\", \"regularization\", \"regularization\", \"regularization\", \"regularized\", \"regularized\", \"regularized\", \"regularizing\", \"reinforcement\", \"reinforcement\", \"reinforcement\", \"reinforcement\", \"reinforcement\", \"reinforcement\", \"reinforcement\", \"reinforcement\", \"reinforcement\", \"reinforcement\", \"reliable\", \"repeated\", \"replay\", \"representation\", \"representation\", \"representation\", \"representation\", \"representation\", \"representation\", \"residual\", \"resolution\", \"resolution\", \"resolution\", \"resource\", \"rethinking\", \"reward\", \"rewards\", \"rewards\", \"riemannian\", \"risk\", \"risk\", \"risk\", \"risk\", \"risk\", \"robust\", \"robust\", \"robust\", \"robust\", \"robust\", \"robust\", \"robustness\", \"robustness\", \"robustness\", \"saddle\", \"safe\", \"sample\", \"sample\", \"sample\", \"sample\", \"samples\", \"sampling\", \"sampling\", \"sampling\", \"sampling\", \"scalable\", \"scalable\", \"scalable\", \"scalable\", \"scalable\", \"scaling\", \"scaling\", \"scaling\", \"segmentation\", \"segmentation\", \"segmentation\", \"segmentation\", \"segmentation\", \"segmentation\", \"segmentation\", \"segmentation\", \"self\", \"self\", \"self\", \"self\", \"self\", \"self\", \"self\", \"self\", \"semantic\", \"semi\", \"semi\", \"sensitivity\", \"sequence\", \"sequential\", \"sequential\", \"sequential\", \"sequential\", \"sequential\", \"set\", \"shallow\", \"shot\", \"similarity\", \"similarity\", \"similarity\", \"similarity\", \"sketching\", \"sketching\", \"sketching\", \"sketching\", \"smooth\", \"smoothed\", \"smoothing\", \"smoothing\", \"softmax\", \"solving\", \"solving\", \"space\", \"space\", \"space\", \"space\", \"space\", \"space\", \"sparse\", \"sparse\", \"sparse\", \"sparse\", \"sparse\", \"sparse\", \"sparse\", \"sparse\", \"sparse\", \"sparsity\", \"sparsity\", \"sparsity\", \"spatiotemporal\", \"specific\", \"spectral\", \"spectral\", \"spectral\", \"spectral\", \"state\", \"state\", \"state\", \"state\", \"state\", \"state\", \"state\", \"state\", \"step\", \"stochastic\", \"stochastic\", \"stochastic\", \"stochastic\", \"stochastic\", \"stochastic\", \"stochastic\", \"stochastic\", \"stochastic\", \"stochastic\", \"streaming\", \"structural\", \"structural\", \"structural\", \"structured\", \"structured\", \"structured\", \"structured\", \"structured\", \"style\", \"submodular\", \"submodular\", \"submodular\", \"submodularity\", \"subspace\", \"subspaces\", \"supervised\", \"supervised\", \"supervised\", \"supervised\", \"supervised\", \"supervised\", \"symbolic\", \"synthesis\", \"synthesis\", \"synthesis\", \"systems\", \"systems\", \"systems\", \"systems\", \"systems\", \"systems\", \"systems\", \"systems\", \"tailed\", \"task\", \"task\", \"task\", \"task\", \"task\", \"teaching\", \"tensor\", \"tensor\", \"tensor\", \"testing\", \"theoretical\", \"thresholding\", \"tight\", \"time\", \"time\", \"time\", \"time\", \"time\", \"time\", \"time\", \"time\", \"time\", \"time\", \"top\", \"total\", \"toward\", \"toward\", \"tradeoffs\", \"tradeoffs\", \"trained\", \"training\", \"training\", \"training\", \"training\", \"training\", \"training\", \"training\", \"training\", \"transductive\", \"transfer\", \"transfer\", \"transformation\", \"transformation\", \"transformer\", \"transforms\", \"translation\", \"translation\", \"transport\", \"treatment\", \"treatment\", \"treatment\", \"tree\", \"tree\", \"trust\", \"uncertainty\", \"uncertainty\", \"uncertainty\", \"unconstrained\", \"understanding\", \"understanding\", \"understanding\", \"universal\", \"universal\", \"universality\", \"unknown\", \"unknown\", \"unlabeled\", \"unlabeled\", \"unlabeled\", \"update\", \"upper\", \"user\", \"valued\", \"variable\", \"variable\", \"variable\", \"variable\", \"variable\", \"variables\", \"variables\", \"variables\", \"variables\", \"variance\", \"variance\", \"variance\", \"variance\", \"variation\", \"variational\", \"variational\", \"variational\", \"variational\", \"variational\", \"variational\", \"varying\", \"verification\", \"via\", \"via\", \"via\", \"via\", \"via\", \"via\", \"via\", \"via\", \"via\", \"video\", \"video\", \"video\", \"video\", \"videos\", \"view\", \"view\", \"view\", \"view\", \"wasserstein\", \"weighted\", \"weighting\", \"wide\", \"wide\", \"wise\", \"worst\", \"zero\"]}, \"R\": 30, \"lambda.step\": 0.01, \"plot.opts\": {\"xlab\": \"PC1\", \"ylab\": \"PC2\"}, \"topic.order\": [8, 4, 3, 9, 10, 7, 5, 1, 2, 6]};\n",
              "\n",
              "function LDAvis_load_lib(url, callback){\n",
              "  var s = document.createElement('script');\n",
              "  s.src = url;\n",
              "  s.async = true;\n",
              "  s.onreadystatechange = s.onload = callback;\n",
              "  s.onerror = function(){console.warn(\"failed to load library \" + url);};\n",
              "  document.getElementsByTagName(\"head\")[0].appendChild(s);\n",
              "}\n",
              "\n",
              "if(typeof(LDAvis) !== \"undefined\"){\n",
              "   // already loaded: just create the visualization\n",
              "   !function(LDAvis){\n",
              "       new LDAvis(\"#\" + \"ldavis_el4601404734761495849878496617\", ldavis_el4601404734761495849878496617_data);\n",
              "   }(LDAvis);\n",
              "}else if(typeof define === \"function\" && define.amd){\n",
              "   // require.js is available: use it to load d3/LDAvis\n",
              "   require.config({paths: {d3: \"https://d3js.org/d3.v5\"}});\n",
              "   require([\"d3\"], function(d3){\n",
              "      window.d3 = d3;\n",
              "      LDAvis_load_lib(\"https://cdn.jsdelivr.net/gh/bmabey/pyLDAvis@3.3.1/pyLDAvis/js/ldavis.v3.0.0.js\", function(){\n",
              "        new LDAvis(\"#\" + \"ldavis_el4601404734761495849878496617\", ldavis_el4601404734761495849878496617_data);\n",
              "      });\n",
              "    });\n",
              "}else{\n",
              "    // require.js not available: dynamically load d3 & LDAvis\n",
              "    LDAvis_load_lib(\"https://d3js.org/d3.v5.js\", function(){\n",
              "         LDAvis_load_lib(\"https://cdn.jsdelivr.net/gh/bmabey/pyLDAvis@3.3.1/pyLDAvis/js/ldavis.v3.0.0.js\", function(){\n",
              "                 new LDAvis(\"#\" + \"ldavis_el4601404734761495849878496617\", ldavis_el4601404734761495849878496617_data);\n",
              "            })\n",
              "         });\n",
              "}\n",
              "</script>"
            ],
            "text/plain": [
              "PreparedData(topic_coordinates=              x         y  topics  cluster       Freq\n",
              "topic                                                \n",
              "7      0.153914  0.016951       1        1  12.553239\n",
              "3      0.015676 -0.046570       2        1  12.395355\n",
              "2     -0.062945  0.069715       3        1  10.519110\n",
              "8      0.044583 -0.116775       4        1  10.437984\n",
              "9      0.020622  0.092714       5        1  10.077017\n",
              "6      0.016138 -0.029815       6        1   9.663474\n",
              "4     -0.108580 -0.019184       7        1   9.211311\n",
              "0     -0.063929  0.128624       8        1   8.723094\n",
              "1      0.081035  0.017977       9        1   8.434876\n",
              "5     -0.096514 -0.113638      10        1   7.984541, topic_info=             Term        Freq       Total Category  logprob  loglift\n",
              "3458         deep  326.000000  326.000000  Default  30.0000  30.0000\n",
              "3657  adversarial  170.000000  170.000000  Default  29.0000  29.0000\n",
              "652         graph  177.000000  177.000000  Default  28.0000  28.0000\n",
              "2210   generative  154.000000  154.000000  Default  27.0000  27.0000\n",
              "40       gradient  178.000000  178.000000  Default  26.0000  26.0000\n",
              "...           ...         ...         ...      ...      ...      ...\n",
              "1        networks   22.324060  370.170656  Topic10  -5.3958  -0.2806\n",
              "470    prediction   19.752017  125.803846  Topic10  -5.5182   0.6762\n",
              "10          multi   20.174480  183.429850  Topic10  -5.4971   0.3202\n",
              "47        optimal   18.667703  167.229122  Topic10  -5.5747   0.3351\n",
              "2834        games   18.062684   67.246181  Topic10  -5.6076   1.2132\n",
              "\n",
              "[602 rows x 6 columns], token_table=      Topic      Freq          Term\n",
              "term                               \n",
              "1259      1  0.823790   abstraction\n",
              "1259     10  0.045766   abstraction\n",
              "1732      1  0.954668   accelerated\n",
              "1480      4  0.904691  accelerating\n",
              "4681      5  0.936830  acceleration\n",
              "...     ...       ...           ...\n",
              "3271      4  0.065953          wide\n",
              "3271     10  0.857393          wide\n",
              "3459      9  0.908415          wise\n",
              "1998      3  0.877116         worst\n",
              "791       9  0.942967          zero\n",
              "\n",
              "[1324 rows x 3 columns], R=30, lambda_step=0.01, plot_opts={'xlab': 'PC1', 'ylab': 'PC2'}, topic_order=[8, 4, 3, 9, 10, 7, 5, 1, 2, 6])"
            ]
          },
          "metadata": {},
          "execution_count": 26
        }
      ]
    },
    {
      "cell_type": "code",
      "metadata": {
        "id": "qcsMpq-R_vOK"
      },
      "source": [
        ""
      ],
      "execution_count": null,
      "outputs": []
    }
  ]
}